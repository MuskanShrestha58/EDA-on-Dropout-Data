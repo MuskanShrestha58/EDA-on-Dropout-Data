{
 "cells": [
  {
   "cell_type": "markdown",
   "id": "e9213057-bfa1-4bc6-ac44-0f106d7ffe16",
   "metadata": {},
   "source": [
    " # <font color=red>  Chapter 1: Data Preprocessing </font>"
   ]
  },
  {
   "cell_type": "markdown",
   "id": "ed688ae2-59a9-459d-bb5b-b57b0715f974",
   "metadata": {},
   "source": [
    "<h4><font color= '#CD4662'> 1. Import Libraries"
   ]
  },
  {
   "cell_type": "code",
   "execution_count": 1,
   "id": "dc73e0f7-3069-420c-8183-02d5cff00cc2",
   "metadata": {},
   "outputs": [
    {
     "name": "stdout",
     "output_type": "stream",
     "text": [
      "Requirement already satisfied: scipy in d:\\broadwaydatascience\\env\\lib\\site-packages (1.13.1)\n",
      "Requirement already satisfied: numpy<2.3,>=1.22.4 in d:\\broadwaydatascience\\env\\lib\\site-packages (from scipy) (1.26.4)\n"
     ]
    },
    {
     "name": "stderr",
     "output_type": "stream",
     "text": [
      "\n",
      "[notice] A new release of pip is available: 23.2.1 -> 24.0\n",
      "[notice] To update, run: D:\\BroadwayDataScience\\env\\Scripts\\python.exe -m pip install --upgrade pip\n"
     ]
    }
   ],
   "source": [
    "!pip install scipy"
   ]
  },
  {
   "cell_type": "code",
   "execution_count": 2,
   "id": "fd8a934d-5c02-4336-9f93-23552eddfeba",
   "metadata": {},
   "outputs": [],
   "source": [
    "import pandas as pd\n",
    "import numpy as np\n",
    "import matplotlib.pyplot as plt\n",
    "import seaborn as sns\n",
    "import warnings\n",
    "warnings.filterwarnings(\"ignore\")\n",
    "from scipy.stats import ttest_ind, ttest_rel\n",
    "from scipy.stats import chi2_contingency\n",
    "from scipy import stats"
   ]
  },
  {
   "cell_type": "markdown",
   "id": "4f7478f9-7103-4c4b-8658-0c856c42e717",
   "metadata": {},
   "source": [
    "<h4><font color= '#CD4662'> 2. Loading the dataset"
   ]
  },
  {
   "cell_type": "code",
   "execution_count": 3,
   "id": "fc93e943-b29d-4745-9ec6-7990a4c5d1f5",
   "metadata": {},
   "outputs": [
    {
     "data": {
      "text/html": [
       "<div>\n",
       "<style scoped>\n",
       "    .dataframe tbody tr th:only-of-type {\n",
       "        vertical-align: middle;\n",
       "    }\n",
       "\n",
       "    .dataframe tbody tr th {\n",
       "        vertical-align: top;\n",
       "    }\n",
       "\n",
       "    .dataframe thead th {\n",
       "        text-align: right;\n",
       "    }\n",
       "</style>\n",
       "<table border=\"1\" class=\"dataframe\">\n",
       "  <thead>\n",
       "    <tr style=\"text-align: right;\">\n",
       "      <th></th>\n",
       "      <th>location_name</th>\n",
       "      <th>home_language</th>\n",
       "      <th>hh_occupation</th>\n",
       "      <th>hh_edu</th>\n",
       "      <th>hh_size</th>\n",
       "      <th>school_distanceKm</th>\n",
       "      <th>age</th>\n",
       "      <th>gender</th>\n",
       "      <th>mothers_edu</th>\n",
       "      <th>grade</th>\n",
       "      <th>meansToSchool</th>\n",
       "      <th>hh_children</th>\n",
       "      <th>dropout</th>\n",
       "    </tr>\n",
       "  </thead>\n",
       "  <tbody>\n",
       "    <tr>\n",
       "      <th>0</th>\n",
       "      <td>Rural</td>\n",
       "      <td>English</td>\n",
       "      <td>Unemployed</td>\n",
       "      <td>Secondary</td>\n",
       "      <td>More than five</td>\n",
       "      <td>1-2 km</td>\n",
       "      <td>11.0</td>\n",
       "      <td>Male</td>\n",
       "      <td>Primary</td>\n",
       "      <td>Form Two</td>\n",
       "      <td>Walk</td>\n",
       "      <td>More than five</td>\n",
       "      <td>No</td>\n",
       "    </tr>\n",
       "    <tr>\n",
       "      <th>1</th>\n",
       "      <td>Urban</td>\n",
       "      <td>English</td>\n",
       "      <td>Unemployed</td>\n",
       "      <td>Primary</td>\n",
       "      <td>More than five</td>\n",
       "      <td>2-3 km</td>\n",
       "      <td>11.0</td>\n",
       "      <td>Male</td>\n",
       "      <td>Primary</td>\n",
       "      <td>Form One</td>\n",
       "      <td>Walk</td>\n",
       "      <td>More than five</td>\n",
       "      <td>Yes</td>\n",
       "    </tr>\n",
       "    <tr>\n",
       "      <th>2</th>\n",
       "      <td>Urban</td>\n",
       "      <td>Kiswahili</td>\n",
       "      <td>Self-employed</td>\n",
       "      <td>Secondary</td>\n",
       "      <td>More than five</td>\n",
       "      <td>4-5 km</td>\n",
       "      <td>11.0</td>\n",
       "      <td>Female</td>\n",
       "      <td>Secondary</td>\n",
       "      <td>Form Two</td>\n",
       "      <td>Public transport</td>\n",
       "      <td>More than five</td>\n",
       "      <td>No</td>\n",
       "    </tr>\n",
       "    <tr>\n",
       "      <th>3</th>\n",
       "      <td>Urban</td>\n",
       "      <td>Kiswahili</td>\n",
       "      <td>Unemployed</td>\n",
       "      <td>Secondary</td>\n",
       "      <td>More than five</td>\n",
       "      <td>More than 11 km</td>\n",
       "      <td>11.0</td>\n",
       "      <td>Male</td>\n",
       "      <td>Primary</td>\n",
       "      <td>Form One</td>\n",
       "      <td>Walk</td>\n",
       "      <td>Five Children</td>\n",
       "      <td>No</td>\n",
       "    </tr>\n",
       "    <tr>\n",
       "      <th>4</th>\n",
       "      <td>Urban</td>\n",
       "      <td>Kiswahili</td>\n",
       "      <td>Self-employed</td>\n",
       "      <td>Secondary</td>\n",
       "      <td>More than five</td>\n",
       "      <td>4-5 km</td>\n",
       "      <td>NaN</td>\n",
       "      <td>Female</td>\n",
       "      <td>Secondary</td>\n",
       "      <td>Form One</td>\n",
       "      <td>Public transport</td>\n",
       "      <td>More than five</td>\n",
       "      <td>No</td>\n",
       "    </tr>\n",
       "  </tbody>\n",
       "</table>\n",
       "</div>"
      ],
      "text/plain": [
       "  location_name home_language  hh_occupation     hh_edu         hh_size  \\\n",
       "0         Rural       English     Unemployed  Secondary  More than five   \n",
       "1         Urban       English     Unemployed    Primary  More than five   \n",
       "2         Urban     Kiswahili  Self-employed  Secondary  More than five   \n",
       "3         Urban     Kiswahili     Unemployed  Secondary  More than five   \n",
       "4         Urban     Kiswahili  Self-employed  Secondary  More than five   \n",
       "\n",
       "  school_distanceKm   age  gender mothers_edu     grade     meansToSchool  \\\n",
       "0            1-2 km  11.0    Male     Primary  Form Two              Walk   \n",
       "1            2-3 km  11.0    Male     Primary  Form One              Walk   \n",
       "2            4-5 km  11.0  Female   Secondary  Form Two  Public transport   \n",
       "3   More than 11 km  11.0    Male     Primary  Form One              Walk   \n",
       "4            4-5 km   NaN  Female   Secondary  Form One  Public transport   \n",
       "\n",
       "      hh_children dropout  \n",
       "0  More than five      No  \n",
       "1  More than five     Yes  \n",
       "2  More than five      No  \n",
       "3   Five Children      No  \n",
       "4  More than five      No  "
      ]
     },
     "execution_count": 3,
     "metadata": {},
     "output_type": "execute_result"
    }
   ],
   "source": [
    "df_master= pd.read_csv('Secondary_school_dropout_dataset.csv')\n",
    "df_master.head(5)"
   ]
  },
  {
   "cell_type": "code",
   "execution_count": 4,
   "id": "f29acb2e-295e-4fcf-95fd-ccb4ff4ea93b",
   "metadata": {},
   "outputs": [
    {
     "data": {
      "text/plain": [
       "(62739, 13)"
      ]
     },
     "execution_count": 4,
     "metadata": {},
     "output_type": "execute_result"
    }
   ],
   "source": [
    "df_master.shape"
   ]
  },
  {
   "cell_type": "code",
   "execution_count": 5,
   "id": "5056683b-ed4d-4301-b1fc-97271a3f7a49",
   "metadata": {},
   "outputs": [],
   "source": [
    "df= df_master.copy()"
   ]
  },
  {
   "cell_type": "code",
   "execution_count": 6,
   "id": "e774a4f6-8372-432d-856f-48368a91370f",
   "metadata": {},
   "outputs": [
    {
     "data": {
      "text/plain": [
       "location_name            0\n",
       "home_language            3\n",
       "hh_occupation            4\n",
       "hh_edu               59578\n",
       "hh_size                  0\n",
       "school_distanceKm        0\n",
       "age                     90\n",
       "gender                   0\n",
       "mothers_edu          32009\n",
       "grade                    0\n",
       "meansToSchool            0\n",
       "hh_children              0\n",
       "dropout                  0\n",
       "dtype: int64"
      ]
     },
     "execution_count": 6,
     "metadata": {},
     "output_type": "execute_result"
    }
   ],
   "source": [
    "df.isna().sum()"
   ]
  },
  {
   "cell_type": "code",
   "execution_count": 7,
   "id": "5fc5fe38-a716-4748-a2ca-44ffd2db5cf9",
   "metadata": {},
   "outputs": [
    {
     "data": {
      "text/html": [
       "<div>\n",
       "<style scoped>\n",
       "    .dataframe tbody tr th:only-of-type {\n",
       "        vertical-align: middle;\n",
       "    }\n",
       "\n",
       "    .dataframe tbody tr th {\n",
       "        vertical-align: top;\n",
       "    }\n",
       "\n",
       "    .dataframe thead th {\n",
       "        text-align: right;\n",
       "    }\n",
       "</style>\n",
       "<table border=\"1\" class=\"dataframe\">\n",
       "  <thead>\n",
       "    <tr style=\"text-align: right;\">\n",
       "      <th></th>\n",
       "      <th>age</th>\n",
       "    </tr>\n",
       "  </thead>\n",
       "  <tbody>\n",
       "    <tr>\n",
       "      <th>count</th>\n",
       "      <td>62649.000000</td>\n",
       "    </tr>\n",
       "    <tr>\n",
       "      <th>mean</th>\n",
       "      <td>15.511708</td>\n",
       "    </tr>\n",
       "    <tr>\n",
       "      <th>std</th>\n",
       "      <td>0.721693</td>\n",
       "    </tr>\n",
       "    <tr>\n",
       "      <th>min</th>\n",
       "      <td>11.000000</td>\n",
       "    </tr>\n",
       "    <tr>\n",
       "      <th>25%</th>\n",
       "      <td>15.000000</td>\n",
       "    </tr>\n",
       "    <tr>\n",
       "      <th>50%</th>\n",
       "      <td>16.000000</td>\n",
       "    </tr>\n",
       "    <tr>\n",
       "      <th>75%</th>\n",
       "      <td>16.000000</td>\n",
       "    </tr>\n",
       "    <tr>\n",
       "      <th>max</th>\n",
       "      <td>16.000000</td>\n",
       "    </tr>\n",
       "  </tbody>\n",
       "</table>\n",
       "</div>"
      ],
      "text/plain": [
       "                age\n",
       "count  62649.000000\n",
       "mean      15.511708\n",
       "std        0.721693\n",
       "min       11.000000\n",
       "25%       15.000000\n",
       "50%       16.000000\n",
       "75%       16.000000\n",
       "max       16.000000"
      ]
     },
     "execution_count": 7,
     "metadata": {},
     "output_type": "execute_result"
    }
   ],
   "source": [
    "df.describe()"
   ]
  },
  {
   "cell_type": "code",
   "execution_count": 8,
   "id": "d41fec70-eece-4c1f-80c2-52db9d5a0f13",
   "metadata": {},
   "outputs": [
    {
     "data": {
      "text/html": [
       "<div>\n",
       "<style scoped>\n",
       "    .dataframe tbody tr th:only-of-type {\n",
       "        vertical-align: middle;\n",
       "    }\n",
       "\n",
       "    .dataframe tbody tr th {\n",
       "        vertical-align: top;\n",
       "    }\n",
       "\n",
       "    .dataframe thead th {\n",
       "        text-align: right;\n",
       "    }\n",
       "</style>\n",
       "<table border=\"1\" class=\"dataframe\">\n",
       "  <thead>\n",
       "    <tr style=\"text-align: right;\">\n",
       "      <th></th>\n",
       "      <th>location_name</th>\n",
       "      <th>home_language</th>\n",
       "      <th>hh_occupation</th>\n",
       "      <th>hh_edu</th>\n",
       "      <th>hh_size</th>\n",
       "      <th>school_distanceKm</th>\n",
       "      <th>gender</th>\n",
       "      <th>mothers_edu</th>\n",
       "      <th>grade</th>\n",
       "      <th>meansToSchool</th>\n",
       "      <th>hh_children</th>\n",
       "      <th>dropout</th>\n",
       "    </tr>\n",
       "  </thead>\n",
       "  <tbody>\n",
       "    <tr>\n",
       "      <th>count</th>\n",
       "      <td>62739</td>\n",
       "      <td>62736</td>\n",
       "      <td>62735</td>\n",
       "      <td>3161</td>\n",
       "      <td>62739</td>\n",
       "      <td>62739</td>\n",
       "      <td>62739</td>\n",
       "      <td>30730</td>\n",
       "      <td>62739</td>\n",
       "      <td>62739</td>\n",
       "      <td>62739</td>\n",
       "      <td>62739</td>\n",
       "    </tr>\n",
       "    <tr>\n",
       "      <th>unique</th>\n",
       "      <td>2</td>\n",
       "      <td>3</td>\n",
       "      <td>6</td>\n",
       "      <td>3</td>\n",
       "      <td>5</td>\n",
       "      <td>8</td>\n",
       "      <td>2</td>\n",
       "      <td>3</td>\n",
       "      <td>4</td>\n",
       "      <td>4</td>\n",
       "      <td>5</td>\n",
       "      <td>2</td>\n",
       "    </tr>\n",
       "    <tr>\n",
       "      <th>top</th>\n",
       "      <td>Rural</td>\n",
       "      <td>English</td>\n",
       "      <td>Unemployed</td>\n",
       "      <td>Primary</td>\n",
       "      <td>More than five</td>\n",
       "      <td>2-3 km</td>\n",
       "      <td>Female</td>\n",
       "      <td>Primary</td>\n",
       "      <td>Form One</td>\n",
       "      <td>Walk</td>\n",
       "      <td>Three Children</td>\n",
       "      <td>No</td>\n",
       "    </tr>\n",
       "    <tr>\n",
       "      <th>freq</th>\n",
       "      <td>62710</td>\n",
       "      <td>58486</td>\n",
       "      <td>55122</td>\n",
       "      <td>2851</td>\n",
       "      <td>46969</td>\n",
       "      <td>62057</td>\n",
       "      <td>35055</td>\n",
       "      <td>29156</td>\n",
       "      <td>40119</td>\n",
       "      <td>56763</td>\n",
       "      <td>15315</td>\n",
       "      <td>57032</td>\n",
       "    </tr>\n",
       "  </tbody>\n",
       "</table>\n",
       "</div>"
      ],
      "text/plain": [
       "       location_name home_language hh_occupation   hh_edu         hh_size  \\\n",
       "count          62739         62736         62735     3161           62739   \n",
       "unique             2             3             6        3               5   \n",
       "top            Rural       English    Unemployed  Primary  More than five   \n",
       "freq           62710         58486         55122     2851           46969   \n",
       "\n",
       "       school_distanceKm  gender mothers_edu     grade meansToSchool  \\\n",
       "count              62739   62739       30730     62739         62739   \n",
       "unique                 8       2           3         4             4   \n",
       "top               2-3 km  Female     Primary  Form One          Walk   \n",
       "freq               62057   35055       29156     40119         56763   \n",
       "\n",
       "           hh_children dropout  \n",
       "count            62739   62739  \n",
       "unique               5       2  \n",
       "top     Three Children      No  \n",
       "freq             15315   57032  "
      ]
     },
     "execution_count": 8,
     "metadata": {},
     "output_type": "execute_result"
    }
   ],
   "source": [
    "df.describe(include='O')"
   ]
  },
  {
   "cell_type": "code",
   "execution_count": 9,
   "id": "6afd8083-b382-4b45-be84-1aaaabd0b91c",
   "metadata": {},
   "outputs": [],
   "source": [
    "# Function to replace NaN values with the most frequent attribute\n",
    "def replace_nan_with_most_frequent(df, column_name):\n",
    "    # Get unique values and their counts\n",
    "    attrib, counts = np.unique(df[column_name].dropna(), return_counts=True)\n",
    "    \n",
    "    # Find the most frequent attribute\n",
    "    most_freq_attrib = attrib[np.argmax(counts)]\n",
    "    \n",
    "    # Replace NaN values with the most frequent attribute\n",
    "    df.loc[pd.isna(df[column_name]), column_name] = most_freq_attrib\n",
    "    \n",
    "# Replace NaN values in 'home_language' and 'hh_occupation'\n",
    "replace_nan_with_most_frequent(df, 'home_language')\n",
    "replace_nan_with_most_frequent(df, 'hh_occupation')\n",
    "replace_nan_with_most_frequent(df,'hh_edu')\n",
    "replace_nan_with_most_frequent(df, 'mothers_edu')\n"
   ]
  },
  {
   "cell_type": "code",
   "execution_count": 10,
   "id": "6bc86fb1-d109-4ed2-a8f5-4259d477fda1",
   "metadata": {},
   "outputs": [
    {
     "data": {
      "text/plain": [
       "location_name         0\n",
       "home_language         0\n",
       "hh_occupation         0\n",
       "hh_edu                0\n",
       "hh_size               0\n",
       "school_distanceKm     0\n",
       "age                  90\n",
       "gender                0\n",
       "mothers_edu           0\n",
       "grade                 0\n",
       "meansToSchool         0\n",
       "hh_children           0\n",
       "dropout               0\n",
       "dtype: int64"
      ]
     },
     "execution_count": 10,
     "metadata": {},
     "output_type": "execute_result"
    }
   ],
   "source": [
    "df.isna().sum()"
   ]
  },
  {
   "cell_type": "code",
   "execution_count": 11,
   "id": "8a6a4799-ceb2-4c12-aeaa-8faaaea9d364",
   "metadata": {},
   "outputs": [
    {
     "data": {
      "text/plain": [
       "Series([], Name: hh_occupation, dtype: object)"
      ]
     },
     "execution_count": 11,
     "metadata": {},
     "output_type": "execute_result"
    }
   ],
   "source": [
    "df[\"hh_occupation\"][df['hh_occupation']=='nan']"
   ]
  },
  {
   "cell_type": "code",
   "execution_count": 12,
   "id": "2e18f67b-d567-4bb4-9b53-9bc801266a67",
   "metadata": {},
   "outputs": [
    {
     "data": {
      "text/plain": [
       "array(['Unemployed', 'Self-employed', 'Agriculture', 'Public sector',\n",
       "       'Housewife', 'Private sector'], dtype=object)"
      ]
     },
     "execution_count": 12,
     "metadata": {},
     "output_type": "execute_result"
    }
   ],
   "source": [
    "df['hh_occupation'].unique()"
   ]
  },
  {
   "cell_type": "code",
   "execution_count": 13,
   "id": "874c00bf-d5e9-4080-bede-b0c923149724",
   "metadata": {},
   "outputs": [
    {
     "data": {
      "text/plain": [
       "Series([], Name: home_language, dtype: object)"
      ]
     },
     "execution_count": 13,
     "metadata": {},
     "output_type": "execute_result"
    }
   ],
   "source": [
    "df['home_language'][df['home_language']=='nan']"
   ]
  },
  {
   "cell_type": "code",
   "execution_count": 14,
   "id": "2f42439c-794a-4774-9da1-8bfbd51f6135",
   "metadata": {},
   "outputs": [
    {
     "data": {
      "text/plain": [
       "<Axes: xlabel='dropout', ylabel='count'>"
      ]
     },
     "execution_count": 14,
     "metadata": {},
     "output_type": "execute_result"
    },
    {
     "data": {
      "image/png": "[encoded data removed]",
      "text/plain": [
       "<Figure size 640x480 with 1 Axes>"
      ]
     },
     "metadata": {},
     "output_type": "display_data"
    }
   ],
   "source": [
    "sns.countplot(x='dropout', data=df)\n",
    "            "
   ]
  },
  {
   "cell_type": "code",
   "execution_count": 15,
   "id": "c0208b0a-992a-4bdc-90a6-469fe76d892b",
   "metadata": {},
   "outputs": [
    {
     "data": {
      "text/html": [
       "<div>\n",
       "<style scoped>\n",
       "    .dataframe tbody tr th:only-of-type {\n",
       "        vertical-align: middle;\n",
       "    }\n",
       "\n",
       "    .dataframe tbody tr th {\n",
       "        vertical-align: top;\n",
       "    }\n",
       "\n",
       "    .dataframe thead th {\n",
       "        text-align: right;\n",
       "    }\n",
       "</style>\n",
       "<table border=\"1\" class=\"dataframe\">\n",
       "  <thead>\n",
       "    <tr style=\"text-align: right;\">\n",
       "      <th></th>\n",
       "      <th>location_name</th>\n",
       "      <th>home_language</th>\n",
       "      <th>hh_occupation</th>\n",
       "      <th>hh_edu</th>\n",
       "      <th>hh_size</th>\n",
       "      <th>school_distanceKm</th>\n",
       "      <th>age</th>\n",
       "      <th>gender</th>\n",
       "      <th>mothers_edu</th>\n",
       "      <th>grade</th>\n",
       "      <th>meansToSchool</th>\n",
       "      <th>hh_children</th>\n",
       "      <th>dropout</th>\n",
       "    </tr>\n",
       "  </thead>\n",
       "  <tbody>\n",
       "    <tr>\n",
       "      <th>0</th>\n",
       "      <td>Rural</td>\n",
       "      <td>English</td>\n",
       "      <td>Unemployed</td>\n",
       "      <td>Secondary</td>\n",
       "      <td>More than five</td>\n",
       "      <td>1-2 km</td>\n",
       "      <td>11.0</td>\n",
       "      <td>Male</td>\n",
       "      <td>Primary</td>\n",
       "      <td>Form Two</td>\n",
       "      <td>Walk</td>\n",
       "      <td>More than five</td>\n",
       "      <td>0</td>\n",
       "    </tr>\n",
       "    <tr>\n",
       "      <th>1</th>\n",
       "      <td>Urban</td>\n",
       "      <td>English</td>\n",
       "      <td>Unemployed</td>\n",
       "      <td>Primary</td>\n",
       "      <td>More than five</td>\n",
       "      <td>2-3 km</td>\n",
       "      <td>11.0</td>\n",
       "      <td>Male</td>\n",
       "      <td>Primary</td>\n",
       "      <td>Form One</td>\n",
       "      <td>Walk</td>\n",
       "      <td>More than five</td>\n",
       "      <td>1</td>\n",
       "    </tr>\n",
       "    <tr>\n",
       "      <th>2</th>\n",
       "      <td>Urban</td>\n",
       "      <td>Kiswahili</td>\n",
       "      <td>Self-employed</td>\n",
       "      <td>Secondary</td>\n",
       "      <td>More than five</td>\n",
       "      <td>4-5 km</td>\n",
       "      <td>11.0</td>\n",
       "      <td>Female</td>\n",
       "      <td>Secondary</td>\n",
       "      <td>Form Two</td>\n",
       "      <td>Public transport</td>\n",
       "      <td>More than five</td>\n",
       "      <td>0</td>\n",
       "    </tr>\n",
       "    <tr>\n",
       "      <th>3</th>\n",
       "      <td>Urban</td>\n",
       "      <td>Kiswahili</td>\n",
       "      <td>Unemployed</td>\n",
       "      <td>Secondary</td>\n",
       "      <td>More than five</td>\n",
       "      <td>More than 11 km</td>\n",
       "      <td>11.0</td>\n",
       "      <td>Male</td>\n",
       "      <td>Primary</td>\n",
       "      <td>Form One</td>\n",
       "      <td>Walk</td>\n",
       "      <td>Five Children</td>\n",
       "      <td>0</td>\n",
       "    </tr>\n",
       "    <tr>\n",
       "      <th>4</th>\n",
       "      <td>Urban</td>\n",
       "      <td>Kiswahili</td>\n",
       "      <td>Self-employed</td>\n",
       "      <td>Secondary</td>\n",
       "      <td>More than five</td>\n",
       "      <td>4-5 km</td>\n",
       "      <td>NaN</td>\n",
       "      <td>Female</td>\n",
       "      <td>Secondary</td>\n",
       "      <td>Form One</td>\n",
       "      <td>Public transport</td>\n",
       "      <td>More than five</td>\n",
       "      <td>0</td>\n",
       "    </tr>\n",
       "  </tbody>\n",
       "</table>\n",
       "</div>"
      ],
      "text/plain": [
       "  location_name home_language  hh_occupation     hh_edu         hh_size  \\\n",
       "0         Rural       English     Unemployed  Secondary  More than five   \n",
       "1         Urban       English     Unemployed    Primary  More than five   \n",
       "2         Urban     Kiswahili  Self-employed  Secondary  More than five   \n",
       "3         Urban     Kiswahili     Unemployed  Secondary  More than five   \n",
       "4         Urban     Kiswahili  Self-employed  Secondary  More than five   \n",
       "\n",
       "  school_distanceKm   age  gender mothers_edu     grade     meansToSchool  \\\n",
       "0            1-2 km  11.0    Male     Primary  Form Two              Walk   \n",
       "1            2-3 km  11.0    Male     Primary  Form One              Walk   \n",
       "2            4-5 km  11.0  Female   Secondary  Form Two  Public transport   \n",
       "3   More than 11 km  11.0    Male     Primary  Form One              Walk   \n",
       "4            4-5 km   NaN  Female   Secondary  Form One  Public transport   \n",
       "\n",
       "      hh_children  dropout  \n",
       "0  More than five        0  \n",
       "1  More than five        1  \n",
       "2  More than five        0  \n",
       "3   Five Children        0  \n",
       "4  More than five        0  "
      ]
     },
     "execution_count": 15,
     "metadata": {},
     "output_type": "execute_result"
    }
   ],
   "source": [
    "df[\"dropout\"]=df[\"dropout\"].map({'No':0, 'Yes':1})\n",
    "df.head()"
   ]
  },
  {
   "cell_type": "code",
   "execution_count": 16,
   "id": "19be7af5-4a86-4ea7-a9cb-cf81d3e10305",
   "metadata": {},
   "outputs": [
    {
     "data": {
      "text/plain": [
       "<Axes: xlabel='age', ylabel='count'>"
      ]
     },
     "execution_count": 16,
     "metadata": {},
     "output_type": "execute_result"
    },
    {
     "data": {
      "image/png": "[encoded data removed]",
      "text/plain": [
       "<Figure size 640x480 with 1 Axes>"
      ]
     },
     "metadata": {},
     "output_type": "display_data"
    }
   ],
   "source": [
    "sns.countplot(x= 'age', data= df)"
   ]
  },
  {
   "cell_type": "code",
   "execution_count": 17,
   "id": "1e83d366-c665-4906-8418-a82364d156e7",
   "metadata": {},
   "outputs": [
    {
     "data": {
      "text/plain": [
       "<Axes: xlabel='age', ylabel='count'>"
      ]
     },
     "execution_count": 17,
     "metadata": {},
     "output_type": "execute_result"
    },
    {
     "data": {
      "image/png": "[encoded data removed]",
      "text/plain": [
       "<Figure size 640x480 with 1 Axes>"
      ]
     },
     "metadata": {},
     "output_type": "display_data"
    }
   ],
   "source": [
    "sns.countplot(x='age', hue='dropout', data=df)"
   ]
  },
  {
   "cell_type": "code",
   "execution_count": 18,
   "id": "8890106e-e46a-4732-a579-9a6719bdd518",
   "metadata": {},
   "outputs": [
    {
     "data": {
      "text/plain": [
       "<Axes: xlabel='grade', ylabel='count'>"
      ]
     },
     "execution_count": 18,
     "metadata": {},
     "output_type": "execute_result"
    },
    {
     "data": {
      "image/png": "[encoded data removed]",
      "text/plain": [
       "<Figure size 640x480 with 1 Axes>"
      ]
     },
     "metadata": {},
     "output_type": "display_data"
    }
   ],
   "source": [
    "sns.countplot(x='grade', hue='age', data=df)"
   ]
  },
  {
   "cell_type": "code",
   "execution_count": 19,
   "id": "8fbb1279-9560-4727-90a9-9490105ce7f9",
   "metadata": {},
   "outputs": [
    {
     "data": {
      "text/plain": [
       "<Axes: xlabel='grade', ylabel='count'>"
      ]
     },
     "execution_count": 19,
     "metadata": {},
     "output_type": "execute_result"
    },
    {
     "data": {
      "image/png": "[encoded data removed]",
      "text/plain": [
       "<Figure size 640x480 with 1 Axes>"
      ]
     },
     "metadata": {},
     "output_type": "display_data"
    }
   ],
   "source": [
    "sns.countplot(x='grade', hue='dropout',data=df)"
   ]
  },
  {
   "cell_type": "markdown",
   "id": "eee26426-5498-40e3-95cf-2fb56acdac4e",
   "metadata": {},
   "source": [
    "<h2>Grade and Age are interrelated so,\n",
    "missing age can be filled using the mean of the age of each grade"
   ]
  },
  {
   "cell_type": "code",
   "execution_count": 20,
   "id": "19e4aaaf-28d9-4c7c-9552-e52f9cbba3d3",
   "metadata": {},
   "outputs": [
    {
     "data": {
      "text/plain": [
       "grade\n",
       "Form One      40119\n",
       "Form Two      15971\n",
       "Form Three     6327\n",
       "Form Four       322\n",
       "Name: count, dtype: int64"
      ]
     },
     "execution_count": 20,
     "metadata": {},
     "output_type": "execute_result"
    }
   ],
   "source": [
    "df['grade'].value_counts()"
   ]
  },
  {
   "cell_type": "code",
   "execution_count": 21,
   "id": "a52aeb2f-01c4-46a1-b6ba-1015c36e7557",
   "metadata": {},
   "outputs": [
    {
     "data": {
      "text/plain": [
       "grade\n",
       "Form Four     15.552795\n",
       "Form One      15.510086\n",
       "Form Three    15.519380\n",
       "Form Two      15.511911\n",
       "Name: age, dtype: float64"
      ]
     },
     "execution_count": 21,
     "metadata": {},
     "output_type": "execute_result"
    }
   ],
   "source": [
    "df.groupby('grade')['age'].mean()"
   ]
  },
  {
   "cell_type": "code",
   "execution_count": 22,
   "id": "32fc0bc5-9d34-4427-8e07-4c26d9d9c908",
   "metadata": {},
   "outputs": [],
   "source": [
    "df.loc[(df.age.isnull())& (df.grade=='Form Four'),'age']=15.552\n",
    "df.loc[(df.age.isnull())& (df.grade=='Form One'),'age']=15.51\n",
    "df.loc[(df.age.isnull())& (df.grade=='Form Three'),'age']=15.5193\n",
    "df.loc[(df.age.isnull())& (df.grade=='Form Two'), 'age']=15.5119\n",
    "\n"
   ]
  },
  {
   "cell_type": "code",
   "execution_count": 23,
   "id": "2039a655-9861-43a2-b25c-dcf4a741b762",
   "metadata": {},
   "outputs": [
    {
     "data": {
      "text/plain": [
       "False"
      ]
     },
     "execution_count": 23,
     "metadata": {},
     "output_type": "execute_result"
    }
   ],
   "source": [
    "df.age.isnull().any()"
   ]
  },
  {
   "cell_type": "code",
   "execution_count": 24,
   "id": "e8adc40b-8d31-43e9-beef-4610b627925c",
   "metadata": {},
   "outputs": [
    {
     "data": {
      "text/plain": [
       "<Axes: xlabel='dropout', ylabel='count'>"
      ]
     },
     "execution_count": 24,
     "metadata": {},
     "output_type": "execute_result"
    },
    {
     "data": {
      "image/png": "[encoded data removed]",
      "text/plain": [
       "<Figure size 640x480 with 1 Axes>"
      ]
     },
     "metadata": {},
     "output_type": "display_data"
    }
   ],
   "source": [
    "sns.countplot(x= 'dropout', data= df)\n"
   ]
  },
  {
   "cell_type": "code",
   "execution_count": 25,
   "id": "9f9a2be2-dde3-48d1-8a48-f97ac05d8414",
   "metadata": {},
   "outputs": [
    {
     "data": {
      "text/html": [
       "<div>\n",
       "<style scoped>\n",
       "    .dataframe tbody tr th:only-of-type {\n",
       "        vertical-align: middle;\n",
       "    }\n",
       "\n",
       "    .dataframe tbody tr th {\n",
       "        vertical-align: top;\n",
       "    }\n",
       "\n",
       "    .dataframe thead th {\n",
       "        text-align: right;\n",
       "    }\n",
       "</style>\n",
       "<table border=\"1\" class=\"dataframe\">\n",
       "  <thead>\n",
       "    <tr style=\"text-align: right;\">\n",
       "      <th></th>\n",
       "      <th>location_name</th>\n",
       "      <th>home_language</th>\n",
       "      <th>hh_occupation</th>\n",
       "      <th>hh_edu</th>\n",
       "      <th>hh_size</th>\n",
       "      <th>school_distanceKm</th>\n",
       "      <th>age</th>\n",
       "      <th>gender</th>\n",
       "      <th>mothers_edu</th>\n",
       "      <th>grade</th>\n",
       "      <th>meansToSchool</th>\n",
       "      <th>hh_children</th>\n",
       "      <th>dropout</th>\n",
       "    </tr>\n",
       "  </thead>\n",
       "  <tbody>\n",
       "    <tr>\n",
       "      <th>0</th>\n",
       "      <td>Rural</td>\n",
       "      <td>English</td>\n",
       "      <td>Unemployed</td>\n",
       "      <td>Secondary</td>\n",
       "      <td>More than five</td>\n",
       "      <td>1-2 km</td>\n",
       "      <td>11.00</td>\n",
       "      <td>Male</td>\n",
       "      <td>Primary</td>\n",
       "      <td>Form Two</td>\n",
       "      <td>Walk</td>\n",
       "      <td>More than five</td>\n",
       "      <td>0</td>\n",
       "    </tr>\n",
       "    <tr>\n",
       "      <th>1</th>\n",
       "      <td>Urban</td>\n",
       "      <td>English</td>\n",
       "      <td>Unemployed</td>\n",
       "      <td>Primary</td>\n",
       "      <td>More than five</td>\n",
       "      <td>2-3 km</td>\n",
       "      <td>11.00</td>\n",
       "      <td>Male</td>\n",
       "      <td>Primary</td>\n",
       "      <td>Form One</td>\n",
       "      <td>Walk</td>\n",
       "      <td>More than five</td>\n",
       "      <td>1</td>\n",
       "    </tr>\n",
       "    <tr>\n",
       "      <th>2</th>\n",
       "      <td>Urban</td>\n",
       "      <td>Kiswahili</td>\n",
       "      <td>Self-employed</td>\n",
       "      <td>Secondary</td>\n",
       "      <td>More than five</td>\n",
       "      <td>4-5 km</td>\n",
       "      <td>11.00</td>\n",
       "      <td>Female</td>\n",
       "      <td>Secondary</td>\n",
       "      <td>Form Two</td>\n",
       "      <td>Public transport</td>\n",
       "      <td>More than five</td>\n",
       "      <td>0</td>\n",
       "    </tr>\n",
       "    <tr>\n",
       "      <th>3</th>\n",
       "      <td>Urban</td>\n",
       "      <td>Kiswahili</td>\n",
       "      <td>Unemployed</td>\n",
       "      <td>Secondary</td>\n",
       "      <td>More than five</td>\n",
       "      <td>More than 11 km</td>\n",
       "      <td>11.00</td>\n",
       "      <td>Male</td>\n",
       "      <td>Primary</td>\n",
       "      <td>Form One</td>\n",
       "      <td>Walk</td>\n",
       "      <td>Five Children</td>\n",
       "      <td>0</td>\n",
       "    </tr>\n",
       "    <tr>\n",
       "      <th>4</th>\n",
       "      <td>Urban</td>\n",
       "      <td>Kiswahili</td>\n",
       "      <td>Self-employed</td>\n",
       "      <td>Secondary</td>\n",
       "      <td>More than five</td>\n",
       "      <td>4-5 km</td>\n",
       "      <td>15.51</td>\n",
       "      <td>Female</td>\n",
       "      <td>Secondary</td>\n",
       "      <td>Form One</td>\n",
       "      <td>Public transport</td>\n",
       "      <td>More than five</td>\n",
       "      <td>0</td>\n",
       "    </tr>\n",
       "    <tr>\n",
       "      <th>...</th>\n",
       "      <td>...</td>\n",
       "      <td>...</td>\n",
       "      <td>...</td>\n",
       "      <td>...</td>\n",
       "      <td>...</td>\n",
       "      <td>...</td>\n",
       "      <td>...</td>\n",
       "      <td>...</td>\n",
       "      <td>...</td>\n",
       "      <td>...</td>\n",
       "      <td>...</td>\n",
       "      <td>...</td>\n",
       "      <td>...</td>\n",
       "    </tr>\n",
       "    <tr>\n",
       "      <th>62734</th>\n",
       "      <td>Rural</td>\n",
       "      <td>English</td>\n",
       "      <td>Unemployed</td>\n",
       "      <td>Primary</td>\n",
       "      <td>Four Children</td>\n",
       "      <td>2-3 km</td>\n",
       "      <td>16.00</td>\n",
       "      <td>Female</td>\n",
       "      <td>Primary</td>\n",
       "      <td>Form One</td>\n",
       "      <td>Bicycle/motorbike</td>\n",
       "      <td>Two Children</td>\n",
       "      <td>0</td>\n",
       "    </tr>\n",
       "    <tr>\n",
       "      <th>62735</th>\n",
       "      <td>Rural</td>\n",
       "      <td>English</td>\n",
       "      <td>Unemployed</td>\n",
       "      <td>Primary</td>\n",
       "      <td>Five Children</td>\n",
       "      <td>2-3 km</td>\n",
       "      <td>16.00</td>\n",
       "      <td>Male</td>\n",
       "      <td>Primary</td>\n",
       "      <td>Form Two</td>\n",
       "      <td>Walk</td>\n",
       "      <td>Two Children</td>\n",
       "      <td>0</td>\n",
       "    </tr>\n",
       "    <tr>\n",
       "      <th>62736</th>\n",
       "      <td>Rural</td>\n",
       "      <td>English</td>\n",
       "      <td>Unemployed</td>\n",
       "      <td>Primary</td>\n",
       "      <td>More than five</td>\n",
       "      <td>2-3 km</td>\n",
       "      <td>16.00</td>\n",
       "      <td>Female</td>\n",
       "      <td>Primary</td>\n",
       "      <td>Form Three</td>\n",
       "      <td>Walk</td>\n",
       "      <td>Three Children</td>\n",
       "      <td>0</td>\n",
       "    </tr>\n",
       "    <tr>\n",
       "      <th>62737</th>\n",
       "      <td>Rural</td>\n",
       "      <td>English</td>\n",
       "      <td>Unemployed</td>\n",
       "      <td>Primary</td>\n",
       "      <td>Three Children</td>\n",
       "      <td>2-3 km</td>\n",
       "      <td>16.00</td>\n",
       "      <td>Female</td>\n",
       "      <td>Primary</td>\n",
       "      <td>Form One</td>\n",
       "      <td>Walk</td>\n",
       "      <td>Two Children</td>\n",
       "      <td>0</td>\n",
       "    </tr>\n",
       "    <tr>\n",
       "      <th>62738</th>\n",
       "      <td>Rural</td>\n",
       "      <td>English</td>\n",
       "      <td>Unemployed</td>\n",
       "      <td>Primary</td>\n",
       "      <td>More than five</td>\n",
       "      <td>2-3 km</td>\n",
       "      <td>16.00</td>\n",
       "      <td>Male</td>\n",
       "      <td>Primary</td>\n",
       "      <td>Form Two</td>\n",
       "      <td>Bicycle/motorbike</td>\n",
       "      <td>Five Children</td>\n",
       "      <td>0</td>\n",
       "    </tr>\n",
       "  </tbody>\n",
       "</table>\n",
       "<p>62739 rows × 13 columns</p>\n",
       "</div>"
      ],
      "text/plain": [
       "      location_name home_language  hh_occupation     hh_edu         hh_size  \\\n",
       "0             Rural       English     Unemployed  Secondary  More than five   \n",
       "1             Urban       English     Unemployed    Primary  More than five   \n",
       "2             Urban     Kiswahili  Self-employed  Secondary  More than five   \n",
       "3             Urban     Kiswahili     Unemployed  Secondary  More than five   \n",
       "4             Urban     Kiswahili  Self-employed  Secondary  More than five   \n",
       "...             ...           ...            ...        ...             ...   \n",
       "62734         Rural       English     Unemployed    Primary   Four Children   \n",
       "62735         Rural       English     Unemployed    Primary   Five Children   \n",
       "62736         Rural       English     Unemployed    Primary  More than five   \n",
       "62737         Rural       English     Unemployed    Primary  Three Children   \n",
       "62738         Rural       English     Unemployed    Primary  More than five   \n",
       "\n",
       "      school_distanceKm    age  gender mothers_edu       grade  \\\n",
       "0                1-2 km  11.00    Male     Primary    Form Two   \n",
       "1                2-3 km  11.00    Male     Primary    Form One   \n",
       "2                4-5 km  11.00  Female   Secondary    Form Two   \n",
       "3       More than 11 km  11.00    Male     Primary    Form One   \n",
       "4                4-5 km  15.51  Female   Secondary    Form One   \n",
       "...                 ...    ...     ...         ...         ...   \n",
       "62734            2-3 km  16.00  Female     Primary    Form One   \n",
       "62735            2-3 km  16.00    Male     Primary    Form Two   \n",
       "62736            2-3 km  16.00  Female     Primary  Form Three   \n",
       "62737            2-3 km  16.00  Female     Primary    Form One   \n",
       "62738            2-3 km  16.00    Male     Primary    Form Two   \n",
       "\n",
       "           meansToSchool     hh_children  dropout  \n",
       "0                   Walk  More than five        0  \n",
       "1                   Walk  More than five        1  \n",
       "2       Public transport  More than five        0  \n",
       "3                   Walk   Five Children        0  \n",
       "4       Public transport  More than five        0  \n",
       "...                  ...             ...      ...  \n",
       "62734  Bicycle/motorbike    Two Children        0  \n",
       "62735               Walk    Two Children        0  \n",
       "62736               Walk  Three Children        0  \n",
       "62737               Walk    Two Children        0  \n",
       "62738  Bicycle/motorbike   Five Children        0  \n",
       "\n",
       "[62739 rows x 13 columns]"
      ]
     },
     "execution_count": 25,
     "metadata": {},
     "output_type": "execute_result"
    }
   ],
   "source": [
    "df"
   ]
  },
  {
   "cell_type": "code",
   "execution_count": 26,
   "id": "837b420e-83be-4570-9da6-542d389902f1",
   "metadata": {},
   "outputs": [
    {
     "data": {
      "text/plain": [
       "location_name        0\n",
       "home_language        0\n",
       "hh_occupation        0\n",
       "hh_edu               0\n",
       "hh_size              0\n",
       "school_distanceKm    0\n",
       "age                  0\n",
       "gender               0\n",
       "mothers_edu          0\n",
       "grade                0\n",
       "meansToSchool        0\n",
       "hh_children          0\n",
       "dropout              0\n",
       "dtype: int64"
      ]
     },
     "execution_count": 26,
     "metadata": {},
     "output_type": "execute_result"
    }
   ],
   "source": [
    "df.isnull().sum() "
   ]
  },
  {
   "cell_type": "code",
   "execution_count": 27,
   "id": "166ca824-731c-44cf-a8e4-39df1062c249",
   "metadata": {},
   "outputs": [
    {
     "name": "stdout",
     "output_type": "stream",
     "text": [
      "location_name: ['Rural' 'Urban']\n",
      "home_language: ['English' 'Kiswahili' 'Native language']\n",
      "hh_occupation: ['Unemployed' 'Self-employed' 'Agriculture' 'Public sector' 'Housewife'\n",
      " 'Private sector']\n",
      "hh_edu: ['Secondary' 'Primary' 'Postsecondary']\n",
      "hh_size: ['More than five' 'Five Children' 'Four Children' 'Three Children'\n",
      " 'Two Children']\n",
      "school_distanceKm: ['1-2 km' '2-3 km' '4-5 km' 'More than 11 km' '0-0.5 km' '6-7 km'\n",
      " '0.5-1 km' '7-10 km']\n",
      "age: [11.     15.51   15.5119 12.     15.5193 13.     14.     15.     16.    ]\n",
      "gender: ['Male' 'Female']\n",
      "mothers_edu: ['Primary' 'Secondary' 'Postsecondary']\n",
      "grade: ['Form Two' 'Form One' 'Form Three' 'Form Four']\n",
      "meansToSchool: ['Walk' 'Public transport' 'Bicycle/motorbike' 'Private car']\n",
      "hh_children: ['More than five' 'Five Children' 'Four Children' 'Three Children'\n",
      " 'Two Children']\n",
      "dropout: [0 1]\n"
     ]
    }
   ],
   "source": [
    "features = [\n",
    "    'location_name', 'home_language', 'hh_occupation', 'hh_edu', 'hh_size', \n",
    "    'school_distanceKm', 'age', 'gender', 'mothers_edu', 'grade', \n",
    "    'meansToSchool', 'hh_children', 'dropout'\n",
    "]\n",
    "\n",
    "# Loop through the feature list and print unique values for each column\n",
    "for i in features:\n",
    "    try:\n",
    "        print(f\"{i}: {df[i].unique()}\")\n",
    "    except KeyError:\n",
    "        print(f\"Column '{i}' does not exist in the DataFrame\")"
   ]
  },
  {
   "cell_type": "code",
   "execution_count": 28,
   "id": "4594262a-c1ff-4eb2-bd77-806a154e0dfa",
   "metadata": {},
   "outputs": [
    {
     "name": "stdout",
     "output_type": "stream",
     "text": [
      "location_name: object\n",
      "home_language: object\n",
      "hh_occupation: object\n",
      "hh_edu: object\n",
      "hh_size: object\n",
      "school_distanceKm: object\n",
      "age: float64\n",
      "gender: object\n",
      "mothers_edu: object\n",
      "grade: object\n",
      "meansToSchool: object\n",
      "hh_children: object\n",
      "dropout: int64\n"
     ]
    }
   ],
   "source": [
    "features = [\n",
    "    'location_name', 'home_language', 'hh_occupation', 'hh_edu', 'hh_size', \n",
    "    'school_distanceKm', 'age', 'gender', 'mothers_edu', 'grade', \n",
    "    'meansToSchool', 'hh_children', 'dropout'\n",
    "]\n",
    "\n",
    "\n",
    "for i in features:\n",
    "    try:\n",
    "        print(f\"{i}: {df[i].dtype}\")\n",
    "    except KeyError:\n",
    "        print(f\"Column '{i}' does not exist in the DataFrame\")"
   ]
  },
  {
   "cell_type": "code",
   "execution_count": 29,
   "id": "d87bbea0-dc11-4299-a725-8e44615ea385",
   "metadata": {},
   "outputs": [],
   "source": [
    "df['age'] = df['age'].round().astype(int)\n",
    "\n",
    "distance_mapping = {\n",
    "    '0-0.5 km': 0.25,\n",
    "    '0.5-1 km': 0.75,\n",
    "    '1-2 km': 1.5,\n",
    "    '2-3 km': 2.5,\n",
    "    '4-5 km': 4.5,\n",
    "    '6-7 km': 6.5,\n",
    "    '7-10 km': 8.5,\n",
    "    'More than 11 km': 11.5\n",
    "}\n",
    "\n",
    "df['school_distanceKm_num'] = df['school_distanceKm'].map(distance_mapping)\n",
    "\n",
    "# Convert relevant columns to categorical\n",
    "categorical_columns = [\n",
    "    'location_name', 'home_language', 'hh_occupation', 'hh_edu', 'hh_size',\n",
    "    'gender', 'mothers_edu', 'grade', 'meansToSchool', 'hh_children', 'dropout'\n",
    "]\n",
    "for col in categorical_columns:\n",
    "    df[col] = df[col].astype('category')"
   ]
  },
  {
   "cell_type": "code",
   "execution_count": 30,
   "id": "c55adb60-6d9d-4eb4-8422-8b7e73e7259e",
   "metadata": {},
   "outputs": [
    {
     "data": {
      "text/html": [
       "<div>\n",
       "<style scoped>\n",
       "    .dataframe tbody tr th:only-of-type {\n",
       "        vertical-align: middle;\n",
       "    }\n",
       "\n",
       "    .dataframe tbody tr th {\n",
       "        vertical-align: top;\n",
       "    }\n",
       "\n",
       "    .dataframe thead th {\n",
       "        text-align: right;\n",
       "    }\n",
       "</style>\n",
       "<table border=\"1\" class=\"dataframe\">\n",
       "  <thead>\n",
       "    <tr style=\"text-align: right;\">\n",
       "      <th></th>\n",
       "      <th>location_name</th>\n",
       "      <th>home_language</th>\n",
       "      <th>hh_occupation</th>\n",
       "      <th>hh_edu</th>\n",
       "      <th>hh_size</th>\n",
       "      <th>school_distanceKm</th>\n",
       "      <th>age</th>\n",
       "      <th>gender</th>\n",
       "      <th>mothers_edu</th>\n",
       "      <th>grade</th>\n",
       "      <th>meansToSchool</th>\n",
       "      <th>hh_children</th>\n",
       "      <th>dropout</th>\n",
       "      <th>school_distanceKm_num</th>\n",
       "    </tr>\n",
       "  </thead>\n",
       "  <tbody>\n",
       "    <tr>\n",
       "      <th>0</th>\n",
       "      <td>Rural</td>\n",
       "      <td>English</td>\n",
       "      <td>Unemployed</td>\n",
       "      <td>Secondary</td>\n",
       "      <td>More than five</td>\n",
       "      <td>1-2 km</td>\n",
       "      <td>11</td>\n",
       "      <td>Male</td>\n",
       "      <td>Primary</td>\n",
       "      <td>Form Two</td>\n",
       "      <td>Walk</td>\n",
       "      <td>More than five</td>\n",
       "      <td>0</td>\n",
       "      <td>1.5</td>\n",
       "    </tr>\n",
       "    <tr>\n",
       "      <th>1</th>\n",
       "      <td>Urban</td>\n",
       "      <td>English</td>\n",
       "      <td>Unemployed</td>\n",
       "      <td>Primary</td>\n",
       "      <td>More than five</td>\n",
       "      <td>2-3 km</td>\n",
       "      <td>11</td>\n",
       "      <td>Male</td>\n",
       "      <td>Primary</td>\n",
       "      <td>Form One</td>\n",
       "      <td>Walk</td>\n",
       "      <td>More than five</td>\n",
       "      <td>1</td>\n",
       "      <td>2.5</td>\n",
       "    </tr>\n",
       "    <tr>\n",
       "      <th>2</th>\n",
       "      <td>Urban</td>\n",
       "      <td>Kiswahili</td>\n",
       "      <td>Self-employed</td>\n",
       "      <td>Secondary</td>\n",
       "      <td>More than five</td>\n",
       "      <td>4-5 km</td>\n",
       "      <td>11</td>\n",
       "      <td>Female</td>\n",
       "      <td>Secondary</td>\n",
       "      <td>Form Two</td>\n",
       "      <td>Public transport</td>\n",
       "      <td>More than five</td>\n",
       "      <td>0</td>\n",
       "      <td>4.5</td>\n",
       "    </tr>\n",
       "    <tr>\n",
       "      <th>3</th>\n",
       "      <td>Urban</td>\n",
       "      <td>Kiswahili</td>\n",
       "      <td>Unemployed</td>\n",
       "      <td>Secondary</td>\n",
       "      <td>More than five</td>\n",
       "      <td>More than 11 km</td>\n",
       "      <td>11</td>\n",
       "      <td>Male</td>\n",
       "      <td>Primary</td>\n",
       "      <td>Form One</td>\n",
       "      <td>Walk</td>\n",
       "      <td>Five Children</td>\n",
       "      <td>0</td>\n",
       "      <td>11.5</td>\n",
       "    </tr>\n",
       "    <tr>\n",
       "      <th>4</th>\n",
       "      <td>Urban</td>\n",
       "      <td>Kiswahili</td>\n",
       "      <td>Self-employed</td>\n",
       "      <td>Secondary</td>\n",
       "      <td>More than five</td>\n",
       "      <td>4-5 km</td>\n",
       "      <td>16</td>\n",
       "      <td>Female</td>\n",
       "      <td>Secondary</td>\n",
       "      <td>Form One</td>\n",
       "      <td>Public transport</td>\n",
       "      <td>More than five</td>\n",
       "      <td>0</td>\n",
       "      <td>4.5</td>\n",
       "    </tr>\n",
       "    <tr>\n",
       "      <th>5</th>\n",
       "      <td>Urban</td>\n",
       "      <td>English</td>\n",
       "      <td>Agriculture</td>\n",
       "      <td>Secondary</td>\n",
       "      <td>More than five</td>\n",
       "      <td>2-3 km</td>\n",
       "      <td>16</td>\n",
       "      <td>Female</td>\n",
       "      <td>Primary</td>\n",
       "      <td>Form One</td>\n",
       "      <td>Public transport</td>\n",
       "      <td>Five Children</td>\n",
       "      <td>0</td>\n",
       "      <td>2.5</td>\n",
       "    </tr>\n",
       "    <tr>\n",
       "      <th>6</th>\n",
       "      <td>Urban</td>\n",
       "      <td>Kiswahili</td>\n",
       "      <td>Agriculture</td>\n",
       "      <td>Secondary</td>\n",
       "      <td>Five Children</td>\n",
       "      <td>2-3 km</td>\n",
       "      <td>16</td>\n",
       "      <td>Female</td>\n",
       "      <td>Primary</td>\n",
       "      <td>Form Two</td>\n",
       "      <td>Walk</td>\n",
       "      <td>More than five</td>\n",
       "      <td>0</td>\n",
       "      <td>2.5</td>\n",
       "    </tr>\n",
       "    <tr>\n",
       "      <th>7</th>\n",
       "      <td>Rural</td>\n",
       "      <td>English</td>\n",
       "      <td>Agriculture</td>\n",
       "      <td>Primary</td>\n",
       "      <td>More than five</td>\n",
       "      <td>1-2 km</td>\n",
       "      <td>16</td>\n",
       "      <td>Male</td>\n",
       "      <td>Primary</td>\n",
       "      <td>Form One</td>\n",
       "      <td>Walk</td>\n",
       "      <td>Four Children</td>\n",
       "      <td>0</td>\n",
       "      <td>1.5</td>\n",
       "    </tr>\n",
       "    <tr>\n",
       "      <th>8</th>\n",
       "      <td>Rural</td>\n",
       "      <td>English</td>\n",
       "      <td>Agriculture</td>\n",
       "      <td>Postsecondary</td>\n",
       "      <td>More than five</td>\n",
       "      <td>4-5 km</td>\n",
       "      <td>16</td>\n",
       "      <td>Female</td>\n",
       "      <td>Primary</td>\n",
       "      <td>Form One</td>\n",
       "      <td>Bicycle/motorbike</td>\n",
       "      <td>More than five</td>\n",
       "      <td>0</td>\n",
       "      <td>4.5</td>\n",
       "    </tr>\n",
       "    <tr>\n",
       "      <th>9</th>\n",
       "      <td>Rural</td>\n",
       "      <td>English</td>\n",
       "      <td>Agriculture</td>\n",
       "      <td>Primary</td>\n",
       "      <td>More than five</td>\n",
       "      <td>1-2 km</td>\n",
       "      <td>16</td>\n",
       "      <td>Male</td>\n",
       "      <td>Primary</td>\n",
       "      <td>Form One</td>\n",
       "      <td>Walk</td>\n",
       "      <td>More than five</td>\n",
       "      <td>1</td>\n",
       "      <td>1.5</td>\n",
       "    </tr>\n",
       "  </tbody>\n",
       "</table>\n",
       "</div>"
      ],
      "text/plain": [
       "  location_name home_language  hh_occupation         hh_edu         hh_size  \\\n",
       "0         Rural       English     Unemployed      Secondary  More than five   \n",
       "1         Urban       English     Unemployed        Primary  More than five   \n",
       "2         Urban     Kiswahili  Self-employed      Secondary  More than five   \n",
       "3         Urban     Kiswahili     Unemployed      Secondary  More than five   \n",
       "4         Urban     Kiswahili  Self-employed      Secondary  More than five   \n",
       "5         Urban       English    Agriculture      Secondary  More than five   \n",
       "6         Urban     Kiswahili    Agriculture      Secondary   Five Children   \n",
       "7         Rural       English    Agriculture        Primary  More than five   \n",
       "8         Rural       English    Agriculture  Postsecondary  More than five   \n",
       "9         Rural       English    Agriculture        Primary  More than five   \n",
       "\n",
       "  school_distanceKm  age  gender mothers_edu     grade      meansToSchool  \\\n",
       "0            1-2 km   11    Male     Primary  Form Two               Walk   \n",
       "1            2-3 km   11    Male     Primary  Form One               Walk   \n",
       "2            4-5 km   11  Female   Secondary  Form Two   Public transport   \n",
       "3   More than 11 km   11    Male     Primary  Form One               Walk   \n",
       "4            4-5 km   16  Female   Secondary  Form One   Public transport   \n",
       "5            2-3 km   16  Female     Primary  Form One   Public transport   \n",
       "6            2-3 km   16  Female     Primary  Form Two               Walk   \n",
       "7            1-2 km   16    Male     Primary  Form One               Walk   \n",
       "8            4-5 km   16  Female     Primary  Form One  Bicycle/motorbike   \n",
       "9            1-2 km   16    Male     Primary  Form One               Walk   \n",
       "\n",
       "      hh_children dropout  school_distanceKm_num  \n",
       "0  More than five       0                    1.5  \n",
       "1  More than five       1                    2.5  \n",
       "2  More than five       0                    4.5  \n",
       "3   Five Children       0                   11.5  \n",
       "4  More than five       0                    4.5  \n",
       "5   Five Children       0                    2.5  \n",
       "6  More than five       0                    2.5  \n",
       "7   Four Children       0                    1.5  \n",
       "8  More than five       0                    4.5  \n",
       "9  More than five       1                    1.5  "
      ]
     },
     "execution_count": 30,
     "metadata": {},
     "output_type": "execute_result"
    }
   ],
   "source": [
    "df.head(10)"
   ]
  },
  {
   "cell_type": "code",
   "execution_count": 31,
   "id": "264e803e-5565-4e69-bae3-2a5a10f0c9da",
   "metadata": {},
   "outputs": [],
   "source": [
    "df.drop(columns=['school_distanceKm'], inplace=True)"
   ]
  },
  {
   "cell_type": "code",
   "execution_count": 32,
   "id": "d3f33552-2805-4129-aec4-15f3193bf228",
   "metadata": {},
   "outputs": [
    {
     "data": {
      "text/html": [
       "<div>\n",
       "<style scoped>\n",
       "    .dataframe tbody tr th:only-of-type {\n",
       "        vertical-align: middle;\n",
       "    }\n",
       "\n",
       "    .dataframe tbody tr th {\n",
       "        vertical-align: top;\n",
       "    }\n",
       "\n",
       "    .dataframe thead th {\n",
       "        text-align: right;\n",
       "    }\n",
       "</style>\n",
       "<table border=\"1\" class=\"dataframe\">\n",
       "  <thead>\n",
       "    <tr style=\"text-align: right;\">\n",
       "      <th></th>\n",
       "      <th>location_name</th>\n",
       "      <th>home_language</th>\n",
       "      <th>hh_occupation</th>\n",
       "      <th>hh_edu</th>\n",
       "      <th>hh_size</th>\n",
       "      <th>age</th>\n",
       "      <th>gender</th>\n",
       "      <th>mothers_edu</th>\n",
       "      <th>grade</th>\n",
       "      <th>meansToSchool</th>\n",
       "      <th>hh_children</th>\n",
       "      <th>dropout</th>\n",
       "      <th>school_distanceKm_num</th>\n",
       "    </tr>\n",
       "  </thead>\n",
       "  <tbody>\n",
       "    <tr>\n",
       "      <th>0</th>\n",
       "      <td>Rural</td>\n",
       "      <td>English</td>\n",
       "      <td>Unemployed</td>\n",
       "      <td>Secondary</td>\n",
       "      <td>More than five</td>\n",
       "      <td>11</td>\n",
       "      <td>Male</td>\n",
       "      <td>Primary</td>\n",
       "      <td>Form Two</td>\n",
       "      <td>Walk</td>\n",
       "      <td>More than five</td>\n",
       "      <td>0</td>\n",
       "      <td>1.5</td>\n",
       "    </tr>\n",
       "    <tr>\n",
       "      <th>1</th>\n",
       "      <td>Urban</td>\n",
       "      <td>English</td>\n",
       "      <td>Unemployed</td>\n",
       "      <td>Primary</td>\n",
       "      <td>More than five</td>\n",
       "      <td>11</td>\n",
       "      <td>Male</td>\n",
       "      <td>Primary</td>\n",
       "      <td>Form One</td>\n",
       "      <td>Walk</td>\n",
       "      <td>More than five</td>\n",
       "      <td>1</td>\n",
       "      <td>2.5</td>\n",
       "    </tr>\n",
       "    <tr>\n",
       "      <th>2</th>\n",
       "      <td>Urban</td>\n",
       "      <td>Kiswahili</td>\n",
       "      <td>Self-employed</td>\n",
       "      <td>Secondary</td>\n",
       "      <td>More than five</td>\n",
       "      <td>11</td>\n",
       "      <td>Female</td>\n",
       "      <td>Secondary</td>\n",
       "      <td>Form Two</td>\n",
       "      <td>Public transport</td>\n",
       "      <td>More than five</td>\n",
       "      <td>0</td>\n",
       "      <td>4.5</td>\n",
       "    </tr>\n",
       "    <tr>\n",
       "      <th>3</th>\n",
       "      <td>Urban</td>\n",
       "      <td>Kiswahili</td>\n",
       "      <td>Unemployed</td>\n",
       "      <td>Secondary</td>\n",
       "      <td>More than five</td>\n",
       "      <td>11</td>\n",
       "      <td>Male</td>\n",
       "      <td>Primary</td>\n",
       "      <td>Form One</td>\n",
       "      <td>Walk</td>\n",
       "      <td>Five Children</td>\n",
       "      <td>0</td>\n",
       "      <td>11.5</td>\n",
       "    </tr>\n",
       "    <tr>\n",
       "      <th>4</th>\n",
       "      <td>Urban</td>\n",
       "      <td>Kiswahili</td>\n",
       "      <td>Self-employed</td>\n",
       "      <td>Secondary</td>\n",
       "      <td>More than five</td>\n",
       "      <td>16</td>\n",
       "      <td>Female</td>\n",
       "      <td>Secondary</td>\n",
       "      <td>Form One</td>\n",
       "      <td>Public transport</td>\n",
       "      <td>More than five</td>\n",
       "      <td>0</td>\n",
       "      <td>4.5</td>\n",
       "    </tr>\n",
       "  </tbody>\n",
       "</table>\n",
       "</div>"
      ],
      "text/plain": [
       "  location_name home_language  hh_occupation     hh_edu         hh_size  age  \\\n",
       "0         Rural       English     Unemployed  Secondary  More than five   11   \n",
       "1         Urban       English     Unemployed    Primary  More than five   11   \n",
       "2         Urban     Kiswahili  Self-employed  Secondary  More than five   11   \n",
       "3         Urban     Kiswahili     Unemployed  Secondary  More than five   11   \n",
       "4         Urban     Kiswahili  Self-employed  Secondary  More than five   16   \n",
       "\n",
       "   gender mothers_edu     grade     meansToSchool     hh_children dropout  \\\n",
       "0    Male     Primary  Form Two              Walk  More than five       0   \n",
       "1    Male     Primary  Form One              Walk  More than five       1   \n",
       "2  Female   Secondary  Form Two  Public transport  More than five       0   \n",
       "3    Male     Primary  Form One              Walk   Five Children       0   \n",
       "4  Female   Secondary  Form One  Public transport  More than five       0   \n",
       "\n",
       "   school_distanceKm_num  \n",
       "0                    1.5  \n",
       "1                    2.5  \n",
       "2                    4.5  \n",
       "3                   11.5  \n",
       "4                    4.5  "
      ]
     },
     "execution_count": 32,
     "metadata": {},
     "output_type": "execute_result"
    }
   ],
   "source": [
    "df.head()"
   ]
  },
  {
   "cell_type": "code",
   "execution_count": 33,
   "id": "ea109f5b-f4b9-44d6-b408-ce3c1ac8cc41",
   "metadata": {},
   "outputs": [
    {
     "data": {
      "text/plain": [
       "array([11, 16, 12, 13, 14, 15])"
      ]
     },
     "execution_count": 33,
     "metadata": {},
     "output_type": "execute_result"
    }
   ],
   "source": [
    "df['age'].unique()"
   ]
  },
  {
   "cell_type": "markdown",
   "id": "477fa5c0-7090-43d0-a727-5771c75d300d",
   "metadata": {},
   "source": [
    "# Chapter 2: Exploratory Data Analysis </font>"
   ]
  },
  {
   "cell_type": "markdown",
   "id": "de12b391-1b0a-4b28-a285-e894effaeef9",
   "metadata": {},
   "source": [
    "<h2> <font color= black> 2.1 Univariate Analysis\n"
   ]
  },
  {
   "cell_type": "markdown",
   "id": "c082f0ea-1958-48de-9752-9c066d8fcd2e",
   "metadata": {},
   "source": [
    "<h4> <font color=green> 2.1.1: location_name"
   ]
  },
  {
   "cell_type": "markdown",
   "id": "35d2d2f8-d255-439a-88a5-39576fabda66",
   "metadata": {},
   "source": [
    "<font color=green><b> <i> i. Distribution"
   ]
  },
  {
   "cell_type": "code",
   "execution_count": 34,
   "id": "c3c05d47-e2ed-41ad-a2cc-26ca106a54a1",
   "metadata": {},
   "outputs": [
    {
     "data": {
      "image/png": "[encoded data removed]",
      "text/plain": [
       "<Figure size 500x500 with 1 Axes>"
      ]
     },
     "metadata": {},
     "output_type": "display_data"
    }
   ],
   "source": [
    "plt.figure(figsize= (5,5))\n",
    "ax= sns.countplot(x=\"location_name\", data= df)\n",
    "plt.show()"
   ]
  },
  {
   "cell_type": "markdown",
   "id": "ea6f9836-418f-4baa-be66-e0982fe26725",
   "metadata": {},
   "source": [
    "<font color= green> <i>  <b>ii. Description about the distribution :\n",
    "\n",
    "\n",
    "<ol><li>\n",
    "    There is a huge difference in the data when it comes to location of the student\n",
    "</li>\n",
    "    <li>Most of them are from Rural region.</li>\n",
    "</ol>\n",
    "\n"
   ]
  },
  {
   "cell_type": "markdown",
   "id": "feacee39-5f86-47ee-881c-13cee5746ec7",
   "metadata": {},
   "source": [
    "<font color= green> \n",
    "<h3> 2.1.2 home_language"
   ]
  },
  {
   "cell_type": "markdown",
   "id": "05f6f74b-134f-4326-b701-0179dc5f40b3",
   "metadata": {},
   "source": [
    "<font color=green><b> <i> i. Distribution"
   ]
  },
  {
   "cell_type": "code",
   "execution_count": 35,
   "id": "6521d044-7334-4ee1-aa53-f59907c0cf62",
   "metadata": {},
   "outputs": [
    {
     "data": {
      "image/png": "[encoded data removed]",
      "text/plain": [
       "<Figure size 800x800 with 1 Axes>"
      ]
     },
     "metadata": {},
     "output_type": "display_data"
    }
   ],
   "source": [
    "plt.figure(figsize=(8,8))\n",
    "sns.countplot(x='home_language', data=df)\n",
    "plt.show()"
   ]
  },
  {
   "cell_type": "markdown",
   "id": "34dc72b0-50c7-4367-884e-eced300de938",
   "metadata": {},
   "source": [
    "<font color= green> <i>  <b>ii. Description about the distribution :\n",
    "\n",
    "\n",
    "<ol><li>\n",
    "    English is the most spoken language among the students.\n",
    "</li>\n",
    "    <li> Kiswahili being the second most spoken language with relaively low number of student speaking it. The number of student speaking Kiswahili is less than 5k</li>\n",
    "</ol>\n"
   ]
  },
  {
   "cell_type": "markdown",
   "id": "4c9b1412-0666-4020-9a5b-80f21a872a0f",
   "metadata": {},
   "source": [
    "<font color= green> <h4> 2.1.3 hh_occupation       \n",
    "           "
   ]
  },
  {
   "cell_type": "code",
   "execution_count": 36,
   "id": "a1508d94-3bfe-4167-8cc0-441ca0cd7648",
   "metadata": {},
   "outputs": [
    {
     "data": {
      "image/png": "[encoded data removed]",
      "text/plain": [
       "<Figure size 1000x500 with 1 Axes>"
      ]
     },
     "metadata": {},
     "output_type": "display_data"
    }
   ],
   "source": [
    "plt.figure(figsize=(10,5))\n",
    "sns.countplot(x='hh_occupation',data=df);"
   ]
  },
  {
   "cell_type": "markdown",
   "id": "ff084cc7-f196-4e68-a4e6-1869e1684896",
   "metadata": {},
   "source": [
    "<font color= green> <i>  <b>ii. Description about the distribution :\n",
    "\n",
    "\n",
    "<ol><li>\n",
    "    Most of the students come from a household having unemployed parents.\n",
    "</li>\n",
    "    <li>Followed by few Self Employed households and very few in Agriculture, public sector, hoursewife and private sector</li>\n",
    "</ol>\n",
    "\n"
   ]
  },
  {
   "cell_type": "markdown",
   "id": "125aaf65-8a49-4b59-b927-e7972535559c",
   "metadata": {},
   "source": [
    "<font color= green> <h4> 2.1.4 hh_edu    \n",
    "      \n",
    "           \n",
    "           "
   ]
  },
  {
   "cell_type": "code",
   "execution_count": 37,
   "id": "df41ecee-98da-4c6c-8c87-717ac8aaaddf",
   "metadata": {},
   "outputs": [
    {
     "data": {
      "image/png": "[encoded data removed]",
      "text/plain": [
       "<Figure size 640x480 with 1 Axes>"
      ]
     },
     "metadata": {},
     "output_type": "display_data"
    }
   ],
   "source": [
    "sns.countplot(x='hh_edu',data=df);"
   ]
  },
  {
   "cell_type": "markdown",
   "id": "45672584-ef3f-4007-a1cb-31f3145f79ac",
   "metadata": {},
   "source": [
    "\n",
    "<font color= green> <h4> 2.1.5 hh_size       \n"
   ]
  },
  {
   "cell_type": "code",
   "execution_count": 38,
   "id": "90474d4a-a701-4214-8b74-9404a6171d03",
   "metadata": {},
   "outputs": [
    {
     "data": {
      "image/png": "[encoded data removed]",
      "text/plain": [
       "<Figure size 1000x500 with 1 Axes>"
      ]
     },
     "metadata": {},
     "output_type": "display_data"
    }
   ],
   "source": [
    "plt.figure(figsize=(10,5))\n",
    "sns.countplot(x='hh_size',data=df);\n"
   ]
  },
  {
   "cell_type": "markdown",
   "id": "70fae311-9b7f-4aa9-93bf-599749f7201e",
   "metadata": {},
   "source": [
    "This shows that, most of the students family have household size of More than 5 members."
   ]
  },
  {
   "cell_type": "markdown",
   "id": "c4f788a9-57c8-40e1-aab7-fc4e8b64e65c",
   "metadata": {},
   "source": [
    "<font color= green> <h4> 2.1.6 school_distanceKm       \n",
    "\n"
   ]
  },
  {
   "cell_type": "code",
   "execution_count": 39,
   "id": "ebfa815c-c8bf-4d85-a6e8-de1f30d9a77c",
   "metadata": {},
   "outputs": [
    {
     "data": {
      "text/plain": [
       "dtype('float64')"
      ]
     },
     "execution_count": 39,
     "metadata": {},
     "output_type": "execute_result"
    },
    {
     "data": {
      "image/png": "[encoded data removed]",
      "text/plain": [
       "<Figure size 1000x500 with 1 Axes>"
      ]
     },
     "metadata": {},
     "output_type": "display_data"
    }
   ],
   "source": [
    "plt.figure(figsize=(10,5))\n",
    "sns.countplot(x='school_distanceKm_num',data=df)\n",
    "df['school_distanceKm_num'].dtype"
   ]
  },
  {
   "cell_type": "markdown",
   "id": "bb41dc55-69c2-4da0-b0e3-0046468e8ef7",
   "metadata": {},
   "source": [
    "This shows that maximum number of students live 2-3km far from their school."
   ]
  },
  {
   "cell_type": "markdown",
   "id": "15b66caa-4e4e-429f-9475-cdd46366cac0",
   "metadata": {},
   "source": [
    "   \n",
    "<font color= green> <h4> 2.1.7 gender \n"
   ]
  },
  {
   "cell_type": "code",
   "execution_count": 40,
   "id": "b83820f5-fc77-4826-8345-1eb8768de12a",
   "metadata": {},
   "outputs": [
    {
     "data": {
      "image/png": "[encoded data removed]",
      "text/plain": [
       "<Figure size 640x480 with 1 Axes>"
      ]
     },
     "metadata": {},
     "output_type": "display_data"
    }
   ],
   "source": [
    "sns.countplot(x='gender',data=df);"
   ]
  },
  {
   "cell_type": "markdown",
   "id": "4116648f-e371-477b-a457-f047a42b10aa",
   "metadata": {},
   "source": [
    "     \n",
    "\n",
    "<font color= green> <h4> 2.1.8 mothers_edu       \n",
    "\n"
   ]
  },
  {
   "cell_type": "code",
   "execution_count": 41,
   "id": "bb9fb226-cf0e-40fa-b7d7-a7ee13d29180",
   "metadata": {},
   "outputs": [
    {
     "data": {
      "text/plain": [
       "<Axes: xlabel='mothers_edu', ylabel='count'>"
      ]
     },
     "execution_count": 41,
     "metadata": {},
     "output_type": "execute_result"
    },
    {
     "data": {
      "image/png": "[encoded data removed]",
      "text/plain": [
       "<Figure size 640x480 with 1 Axes>"
      ]
     },
     "metadata": {},
     "output_type": "display_data"
    }
   ],
   "source": [
    "sns.countplot(x= 'mothers_edu', data=df)"
   ]
  },
  {
   "cell_type": "markdown",
   "id": "993a3144-24a8-4dd1-bd49-f20cb1900e9e",
   "metadata": {},
   "source": [
    "This shows that, most of the students come from the background of their mother having just Primary Education. \n",
    "and a very few number have secondary education in hand."
   ]
  },
  {
   "cell_type": "markdown",
   "id": "c9c38919-0f8c-4e1d-afb0-13d9689d5627",
   "metadata": {},
   "source": [
    "<font color= green> <h4> 2.1.9 grade       \n",
    "\n"
   ]
  },
  {
   "cell_type": "code",
   "execution_count": 42,
   "id": "63bfe6ce-934c-4f30-9aeb-d5d5b738b9da",
   "metadata": {},
   "outputs": [
    {
     "data": {
      "text/plain": [
       "<Axes: xlabel='grade', ylabel='count'>"
      ]
     },
     "execution_count": 42,
     "metadata": {},
     "output_type": "execute_result"
    },
    {
     "data": {
      "image/png": "[encoded data removed]",
      "text/plain": [
       "<Figure size 640x480 with 1 Axes>"
      ]
     },
     "metadata": {},
     "output_type": "display_data"
    }
   ],
   "source": [
    "sns.countplot(x='grade',data=df)"
   ]
  },
  {
   "cell_type": "markdown",
   "id": "701af380-355c-4fa0-bdae-6a9b7022ad94",
   "metadata": {},
   "source": [
    "<font color= green> <h4> 2.1.10 meansToSchool       \n"
   ]
  },
  {
   "cell_type": "code",
   "execution_count": 43,
   "id": "0340164f-b868-48ad-94e2-535db88c2dd9",
   "metadata": {},
   "outputs": [
    {
     "data": {
      "text/plain": [
       "<Axes: xlabel='meansToSchool', ylabel='count'>"
      ]
     },
     "execution_count": 43,
     "metadata": {},
     "output_type": "execute_result"
    },
    {
     "data": {
      "image/png": "[encoded data removed]",
      "text/plain": [
       "<Figure size 800x500 with 1 Axes>"
      ]
     },
     "metadata": {},
     "output_type": "display_data"
    }
   ],
   "source": [
    "plt.figure(figsize=(8,5))\n",
    "sns.countplot(x='meansToSchool', data=df)"
   ]
  },
  {
   "cell_type": "markdown",
   "id": "687d9887-1877-4bea-aa6c-b337f87b2ef8",
   "metadata": {},
   "source": [
    "Here, We can see that a significant amount of students commute through walk. "
   ]
  },
  {
   "cell_type": "markdown",
   "id": "e3fdface-6c2c-4ab4-9722-0d1136e6c175",
   "metadata": {},
   "source": [
    "\n",
    "<font color= green> <h4> 2.1.11 hh_children\n"
   ]
  },
  {
   "cell_type": "code",
   "execution_count": 44,
   "id": "9db2e240-0ffb-4801-acae-a60de17b3688",
   "metadata": {},
   "outputs": [
    {
     "data": {
      "text/plain": [
       "<Axes: xlabel='hh_children', ylabel='count'>"
      ]
     },
     "execution_count": 44,
     "metadata": {},
     "output_type": "execute_result"
    },
    {
     "data": {
      "image/png": "[encoded data removed]",
      "text/plain": [
       "<Figure size 1000x500 with 1 Axes>"
      ]
     },
     "metadata": {},
     "output_type": "display_data"
    }
   ],
   "source": [
    "plt.figure(figsize=(10,5))\n",
    "sns.countplot(x='hh_children', data=df)"
   ]
  },
  {
   "cell_type": "markdown",
   "id": "bb6d9c81-02e7-40b7-9be0-a9c180607207",
   "metadata": {},
   "source": [
    "<font color= green> <h4> 2.1.12 dropout"
   ]
  },
  {
   "cell_type": "code",
   "execution_count": 45,
   "id": "b04c9030-686d-4bf9-807f-96cf9fec9c07",
   "metadata": {},
   "outputs": [
    {
     "data": {
      "image/png": "[encoded data removed]",
      "text/plain": [
       "<Figure size 640x480 with 1 Axes>"
      ]
     },
     "metadata": {},
     "output_type": "display_data"
    }
   ],
   "source": [
    "sns.countplot(x='dropout', data=df);"
   ]
  },
  {
   "cell_type": "markdown",
   "id": "020073e8-663b-4727-9326-cf30dc14c10c",
   "metadata": {},
   "source": [
    "<font color= green> <h4> 2.1.13 age   "
   ]
  },
  {
   "cell_type": "code",
   "execution_count": 46,
   "id": "bc294252-16c9-4f91-9267-d04bfa06b712",
   "metadata": {},
   "outputs": [
    {
     "data": {
      "image/png": "[encoded data removed]",
      "text/plain": [
       "<Figure size 400x400 with 1 Axes>"
      ]
     },
     "metadata": {},
     "output_type": "display_data"
    }
   ],
   "source": [
    "df[\"age\"].hist(figsize=(4,4))\n",
    "plt.xlabel('Age')\n",
    "plt.ylabel('No of People')\n",
    "plt.show()"
   ]
  },
  {
   "cell_type": "code",
   "execution_count": 47,
   "id": "ecc12a3f-10cc-4626-8314-31d8eae42f75",
   "metadata": {},
   "outputs": [
    {
     "data": {
      "text/plain": [
       "<Axes: ylabel='age'>"
      ]
     },
     "execution_count": 47,
     "metadata": {},
     "output_type": "execute_result"
    },
    {
     "data": {
      "image/png": "[encoded data removed]",
      "text/plain": [
       "<Figure size 640x480 with 1 Axes>"
      ]
     },
     "metadata": {},
     "output_type": "display_data"
    }
   ],
   "source": [
    "sns.boxplot(df['age'])"
   ]
  },
  {
   "cell_type": "code",
   "execution_count": 48,
   "id": "b81b2aa7-5356-4634-815b-88dece3ab1c2",
   "metadata": {},
   "outputs": [
    {
     "data": {
      "text/plain": [
       "(1008, 13)"
      ]
     },
     "execution_count": 48,
     "metadata": {},
     "output_type": "execute_result"
    }
   ],
   "source": [
    "df[df[\"age\"]<14].shape"
   ]
  },
  {
   "cell_type": "markdown",
   "id": "b816f971-b596-4edb-98e2-87871883aa15",
   "metadata": {},
   "source": [
    "# 2.2 Bi-Variate Analysis"
   ]
  },
  {
   "cell_type": "markdown",
   "id": "c9be0b4b-0dfb-4ae2-8c7f-3ba826d277eb",
   "metadata": {},
   "source": [
    "# 2.2.1. Plotting  Age with Dropout"
   ]
  },
  {
   "cell_type": "code",
   "execution_count": 49,
   "id": "75a7cbde-aea1-4c4b-9cda-3b139045bf36",
   "metadata": {},
   "outputs": [
    {
     "data": {
      "image/png": "[encoded data removed]",
      "text/plain": [
       "<Figure size 1000x600 with 1 Axes>"
      ]
     },
     "metadata": {},
     "output_type": "display_data"
    }
   ],
   "source": [
    "plt.figure(figsize=(10, 6))\n",
    "sns.countplot(x='age', hue='dropout', data=df)\n",
    "plt.title('Count plot of Age by Dropout')\n",
    "plt.xlabel('Age')\n",
    "plt.ylabel('Count')\n",
    "plt.show()"
   ]
  },
  {
   "cell_type": "code",
   "execution_count": 50,
   "id": "fed3f120-4561-4abb-901a-612d81f5ed86",
   "metadata": {},
   "outputs": [
    {
     "data": {
      "text/html": [
       "<div>\n",
       "<style scoped>\n",
       "    .dataframe tbody tr th:only-of-type {\n",
       "        vertical-align: middle;\n",
       "    }\n",
       "\n",
       "    .dataframe tbody tr th {\n",
       "        vertical-align: top;\n",
       "    }\n",
       "\n",
       "    .dataframe thead th {\n",
       "        text-align: right;\n",
       "    }\n",
       "</style>\n",
       "<table border=\"1\" class=\"dataframe\">\n",
       "  <thead>\n",
       "    <tr style=\"text-align: right;\">\n",
       "      <th></th>\n",
       "      <th>dropout</th>\n",
       "      <th>age</th>\n",
       "    </tr>\n",
       "  </thead>\n",
       "  <tbody>\n",
       "    <tr>\n",
       "      <th>1</th>\n",
       "      <td>1</td>\n",
       "      <td>15.525670</td>\n",
       "    </tr>\n",
       "    <tr>\n",
       "      <th>0</th>\n",
       "      <td>0</td>\n",
       "      <td>15.511081</td>\n",
       "    </tr>\n",
       "  </tbody>\n",
       "</table>\n",
       "</div>"
      ],
      "text/plain": [
       "  dropout        age\n",
       "1       1  15.525670\n",
       "0       0  15.511081"
      ]
     },
     "execution_count": 50,
     "metadata": {},
     "output_type": "execute_result"
    }
   ],
   "source": [
    "df[[\"dropout\",\"age\"]].groupby(['dropout'], as_index=False).mean().sort_values(by=\"age\", ascending=False)"
   ]
  },
  {
   "cell_type": "code",
   "execution_count": 51,
   "id": "337b1058-00ee-43b6-b5bf-c8cb5f4ff6c7",
   "metadata": {},
   "outputs": [
    {
     "data": {
      "text/plain": [
       "\"Overall, this code performs data filtering based on the 'age' column, \\nsplits the data by the 'income' category, and then randomly samples 100 values from each category. \\nThis process is often used for creating balanced datasets for analysis or modeling purposes.\""
      ]
     },
     "execution_count": 51,
     "metadata": {},
     "output_type": "execute_result"
    }
   ],
   "source": [
    "# 1. Importing Libraries:\n",
    "import random\n",
    "\n",
    "# 2. Data Filtering\n",
    "'''This line filters the data DataFrame based on a condition related to the 'age' column.\n",
    "It calculates the Z-score for each value in the 'age' column and selects only those rows where the absolute Z-score is less than 3.\n",
    "The resulting filtered DataFrame is stored in the variable datatest.'''\n",
    "\n",
    "datatest= df[np.abs(stats.zscore(df['age']))<3]\n",
    "\n",
    "# 3. Splitting Data by 'income' Category:\n",
    "'''These lines further split the datatest DataFrame into two separate Series based on the value of the 'income' column.\n",
    "income_1 contains the 'age' values where 'income' is equal to 1.\n",
    "income_0 contains the 'age' values where 'income' is equal to 0.'''\n",
    "\n",
    "dropout_1= datatest[datatest['dropout']==1]['age']\n",
    "dropout_0= datatest[datatest['dropout']==0]['age']\n",
    "\n",
    "# 4. Sampling Data:\n",
    "'''These lines convert the Series income_0 and income_1 to lists using the values.tolist() method.\n",
    "Then, it randomly samples 100 values from each list using the random.sample() function.\n",
    "The sampled values are stored back in the variables income_0 and income_1.'''\n",
    "\n",
    "dropout_0= dropout_0.values.tolist()\n",
    "dropout_0= random.sample(dropout_0, 100)\n",
    "dropout_1= dropout_1.values.tolist()\n",
    "dropout_1= random.sample(dropout_1, 100)\n",
    "\n",
    "'''Overall, this code performs data filtering based on the 'age' column, \n",
    "splits the data by the 'income' category, and then randomly samples 100 values from each category. \n",
    "This process is often used for creating balanced datasets for analysis or modeling purposes.'''"
   ]
  },
  {
   "cell_type": "code",
   "execution_count": 52,
   "id": "50540855-edd9-46b5-8730-cd0829482852",
   "metadata": {},
   "outputs": [
    {
     "name": "stdout",
     "output_type": "stream",
     "text": [
      "ttest 1.1456349578104943\n",
      "p value 0.253333922447661\n",
      "Accept the null hypo\n"
     ]
    }
   ],
   "source": [
    "from scipy.stats import ttest_ind\n",
    "'''This line performs a t-test using the ttest_ind function.\n",
    "It compares the means of two independent samples: income_1 and income_0.\n",
    "The equal_var=False argument indicates that the function should perform a Welch's t-test, which does not assume equal variance between the samples.\n",
    "The function returns two values: ttest (the calculated t-statistic) and pval (the p-value associated with the test).'''\n",
    "ttest, pval= ttest_ind(dropout_1,dropout_0, equal_var= False)\n",
    "print(\"ttest\", ttest)\n",
    "print(\"p value\", pval)\n",
    "\n",
    "if pval<=0.05:\n",
    "    print(\"Reject the Null Hypo\")\n",
    "else:\n",
    "    print(\"Accept the null hypo\")"
   ]
  },
  {
   "cell_type": "markdown",
   "id": "49a915b2-6f25-4691-abe6-02bf265a36f5",
   "metadata": {},
   "source": [
    "# iv. Final Conclusion \n",
    "Using statistical analysis we can conclude that there is not any significant difference and the age and dropout feature is independent on each other "
   ]
  },
  {
   "cell_type": "markdown",
   "id": "9b0f10a9-7397-4584-9e66-a01bfe147a14",
   "metadata": {},
   "source": [
    "# 2.2.2. Plotting  Location Name with Dropout"
   ]
  },
  {
   "cell_type": "code",
   "execution_count": 53,
   "id": "d036e37e-ab07-47c8-9003-ec39875daab5",
   "metadata": {},
   "outputs": [
    {
     "data": {
      "image/png": "[encoded data removed]",
      "text/plain": [
       "<Figure size 1000x600 with 1 Axes>"
      ]
     },
     "metadata": {},
     "output_type": "display_data"
    }
   ],
   "source": [
    "plt.figure(figsize=(10, 6))\n",
    "sns.countplot(x='location_name', hue='dropout', data=df)\n",
    "plt.title('Count plot of loccation_name by Dropout')\n",
    "plt.xlabel('location_name')\n",
    "plt.ylabel('Count')\n",
    "plt.show()"
   ]
  },
  {
   "cell_type": "code",
   "execution_count": 54,
   "id": "bdbc0e8c-4e6c-4b84-8130-2e771545c5d5",
   "metadata": {},
   "outputs": [
    {
     "name": "stdout",
     "output_type": "stream",
     "text": [
      "Chi2: 0.31003155420653816\n",
      "p-value: 0.577660823066896\n",
      "Degrees of freedom: 1\n",
      "Expected frequencies:\n",
      "[[5.70056380e+04 5.70436204e+03]\n",
      " [2.63620396e+01 2.63796044e+00]]\n",
      "..................................................................................................\n",
      "Fail to reject the null hypothesis: No significant relationship between location_name and dropout\n"
     ]
    }
   ],
   "source": [
    "import pandas as pd\n",
    "from scipy.stats import chi2_contingency\n",
    "\n",
    "# Create a contingency table\n",
    "contingency_table = pd.crosstab(df['location_name'], df['dropout'])\n",
    "\n",
    "# Perform Chi-Square Test\n",
    "chi2, p, dof, expected = chi2_contingency(contingency_table)\n",
    "\n",
    "print(f\"Chi2: {chi2}\")\n",
    "print(f\"p-value: {p}\")\n",
    "print(f\"Degrees of freedom: {dof}\")\n",
    "print(\"Expected frequencies:\")\n",
    "print(expected)\n",
    "\n",
    "if p < 0.05:\n",
    "    print(\"..................................................................................................\")\n",
    "    print(\"Reject the null hypothesis: There is a significant relationship between location_name and dropout\")\n",
    "else:\n",
    "    print(\"..................................................................................................\")\n",
    "    print(\"Fail to reject the null hypothesis: No significant relationship between location_name and dropout\")\n"
   ]
  },
  {
   "cell_type": "markdown",
   "id": "ee8a3de5-024e-48fb-9f08-1cd9b44b40fd",
   "metadata": {},
   "source": [
    "# iv. Final Conclusion \n",
    "Using statistical analysis we can conclude that there is not any significant difference and the location_name and dropout feature is independent on each other. "
   ]
  },
  {
   "cell_type": "markdown",
   "id": "92ea0fb0-fbb2-4ec8-84b6-38ef81c7fef1",
   "metadata": {},
   "source": [
    "# 2.2.3. Plotting  Household Occupation(hh with Dropout"
   ]
  },
  {
   "cell_type": "code",
   "execution_count": 56,
   "id": "af45039d-5f19-4727-af64-4d3ccf69244a",
   "metadata": {},
   "outputs": [
    {
     "data": {
      "image/png": "[encoded data removed]",
      "text/plain": [
       "<Figure size 1000x600 with 1 Axes>"
      ]
     },
     "metadata": {},
     "output_type": "display_data"
    }
   ],
   "source": [
    "plt.figure(figsize=(10, 6))\n",
    "sns.countplot(x='hh_occupation', hue='dropout', data=df)\n",
    "plt.title('Count plot of loccation_name by Dropout')\n",
    "plt.xlabel('hh_occupation')\n",
    "plt.ylabel('Count')\n",
    "plt.show()\n"
   ]
  },
  {
   "cell_type": "code",
   "execution_count": 57,
   "id": "b6e369df-68be-4d6e-85d7-ace4c8e75940",
   "metadata": {},
   "outputs": [
    {
     "data": {
      "text/html": [
       "<div>\n",
       "<style scoped>\n",
       "    .dataframe tbody tr th:only-of-type {\n",
       "        vertical-align: middle;\n",
       "    }\n",
       "\n",
       "    .dataframe tbody tr th {\n",
       "        vertical-align: top;\n",
       "    }\n",
       "\n",
       "    .dataframe thead th {\n",
       "        text-align: right;\n",
       "    }\n",
       "</style>\n",
       "<table border=\"1\" class=\"dataframe\">\n",
       "  <thead>\n",
       "    <tr style=\"text-align: right;\">\n",
       "      <th>dropout</th>\n",
       "      <th>0</th>\n",
       "      <th>1</th>\n",
       "    </tr>\n",
       "    <tr>\n",
       "      <th>hh_occupation</th>\n",
       "      <th></th>\n",
       "      <th></th>\n",
       "    </tr>\n",
       "  </thead>\n",
       "  <tbody>\n",
       "    <tr>\n",
       "      <th>Agriculture</th>\n",
       "      <td>2</td>\n",
       "      <td>2</td>\n",
       "    </tr>\n",
       "    <tr>\n",
       "      <th>Housewife</th>\n",
       "      <td>2</td>\n",
       "      <td>0</td>\n",
       "    </tr>\n",
       "    <tr>\n",
       "      <th>Private sector</th>\n",
       "      <td>1</td>\n",
       "      <td>0</td>\n",
       "    </tr>\n",
       "    <tr>\n",
       "      <th>Public sector</th>\n",
       "      <td>0</td>\n",
       "      <td>1</td>\n",
       "    </tr>\n",
       "    <tr>\n",
       "      <th>Self-employed</th>\n",
       "      <td>26</td>\n",
       "      <td>5</td>\n",
       "    </tr>\n",
       "    <tr>\n",
       "      <th>Unemployed</th>\n",
       "      <td>197</td>\n",
       "      <td>15</td>\n",
       "    </tr>\n",
       "  </tbody>\n",
       "</table>\n",
       "</div>"
      ],
      "text/plain": [
       "dropout           0   1\n",
       "hh_occupation          \n",
       "Agriculture       2   2\n",
       "Housewife         2   0\n",
       "Private sector    1   0\n",
       "Public sector     0   1\n",
       "Self-employed    26   5\n",
       "Unemployed      197  15"
      ]
     },
     "execution_count": 57,
     "metadata": {},
     "output_type": "execute_result"
    }
   ],
   "source": [
    "# Sample the DataFrame consistently for both columns\n",
    "sampled_df = df.sample(frac=0.004, replace=True, random_state=1)\n",
    "\n",
    "# Create a contingency table from the sampled data\n",
    "contingency_table = pd.crosstab(sampled_df['hh_occupation'], sampled_df['dropout'], margins=False)\n",
    "\n",
    "contingency_table"
   ]
  },
  {
   "cell_type": "code",
   "execution_count": 58,
   "id": "b0052347-c907-44d0-aff5-21774aca0f92",
   "metadata": {},
   "outputs": [
    {
     "name": "stdout",
     "output_type": "stream",
     "text": [
      "Chi2: 21.14693496041965\n",
      "p-value: 0.000759878174450884\n",
      "Degrees of freedom: 5\n",
      "Expected frequencies:\n",
      "[[3.63346614e+00 3.66533865e-01]\n",
      " [1.81673307e+00 1.83266932e-01]\n",
      " [9.08366534e-01 9.16334661e-02]\n",
      " [9.08366534e-01 9.16334661e-02]\n",
      " [2.81593625e+01 2.84063745e+00]\n",
      " [1.92573705e+02 1.94262948e+01]]\n",
      "..................................................................................................\n",
      "Reject the null hypothesis: There is a significant relationship between hh_occupation and dropout\n"
     ]
    }
   ],
   "source": [
    "\n",
    "\n",
    "# Perform Chi-Square Test\n",
    "chi2, p, dof, expected = chi2_contingency(contingency_table)\n",
    "\n",
    "print(f\"Chi2: {chi2}\")\n",
    "print(f\"p-value: {p}\")\n",
    "print(f\"Degrees of freedom: {dof}\")\n",
    "print(\"Expected frequencies:\")\n",
    "print(expected)\n",
    "\n",
    "\n",
    "if p < 0.05:\n",
    "    print(\"..................................................................................................\")\n",
    "    print(\"Reject the null hypothesis: There is a significant relationship between hh_occupation and dropout\")\n",
    "else:\n",
    "    print(\"..................................................................................................\")\n",
    "    print(\"Fail to reject the null hypothesis: No significant relationship between hh_occupation and dropout\")"
   ]
  },
  {
   "cell_type": "markdown",
   "id": "9f7789ba-d023-4f84-9666-fe1575542302",
   "metadata": {},
   "source": [
    "# iv. Final Conclusion \n",
    "Using statistical analysis we can conclude that there is a significant difference and the hh_occupation and dropout feature is dependent on each other. "
   ]
  },
  {
   "cell_type": "markdown",
   "id": "559d6594-8e75-411c-90a5-d1335617bde4",
   "metadata": {},
   "source": [
    "# 2.2.4. Plotting  Mothers Education(mothers_edu) with Dropout"
   ]
  },
  {
   "cell_type": "code",
   "execution_count": 59,
   "id": "7a2d52f6-6cab-46e5-87c8-68d0e10046f2",
   "metadata": {},
   "outputs": [
    {
     "data": {
      "image/png": "[encoded data removed]",
      "text/plain": [
       "<Figure size 1000x600 with 1 Axes>"
      ]
     },
     "metadata": {},
     "output_type": "display_data"
    }
   ],
   "source": [
    "plt.figure(figsize=(10, 6))\n",
    "sns.countplot(x='mothers_edu', hue='dropout', data=df)\n",
    "plt.title('Count plot of mothers_edu by Dropout')\n",
    "plt.xlabel('mothers_edu')\n",
    "plt.ylabel('Count')\n",
    "plt.show()"
   ]
  },
  {
   "cell_type": "code",
   "execution_count": 60,
   "id": "ebb58646-5bef-46d5-9abc-fea9d970c264",
   "metadata": {},
   "outputs": [
    {
     "data": {
      "text/html": [
       "<div>\n",
       "<style scoped>\n",
       "    .dataframe tbody tr th:only-of-type {\n",
       "        vertical-align: middle;\n",
       "    }\n",
       "\n",
       "    .dataframe tbody tr th {\n",
       "        vertical-align: top;\n",
       "    }\n",
       "\n",
       "    .dataframe thead th {\n",
       "        text-align: right;\n",
       "    }\n",
       "</style>\n",
       "<table border=\"1\" class=\"dataframe\">\n",
       "  <thead>\n",
       "    <tr style=\"text-align: right;\">\n",
       "      <th>dropout</th>\n",
       "      <th>0</th>\n",
       "      <th>1</th>\n",
       "    </tr>\n",
       "    <tr>\n",
       "      <th>mothers_edu</th>\n",
       "      <th></th>\n",
       "      <th></th>\n",
       "    </tr>\n",
       "  </thead>\n",
       "  <tbody>\n",
       "    <tr>\n",
       "      <th>Primary</th>\n",
       "      <td>219</td>\n",
       "      <td>23</td>\n",
       "    </tr>\n",
       "    <tr>\n",
       "      <th>Secondary</th>\n",
       "      <td>9</td>\n",
       "      <td>0</td>\n",
       "    </tr>\n",
       "  </tbody>\n",
       "</table>\n",
       "</div>"
      ],
      "text/plain": [
       "dropout        0   1\n",
       "mothers_edu         \n",
       "Primary      219  23\n",
       "Secondary      9   0"
      ]
     },
     "execution_count": 60,
     "metadata": {},
     "output_type": "execute_result"
    }
   ],
   "source": [
    "# Sample the DataFrame consistently for both columns\n",
    "sampled_df = df.sample(frac=0.004, replace=True, random_state=1)\n",
    "\n",
    "# Create a contingency table from the sampled data\n",
    "contingency_table = pd.crosstab(sampled_df['mothers_edu'], sampled_df['dropout'], margins=False)\n",
    "contingency_table"
   ]
  },
  {
   "cell_type": "code",
   "execution_count": 61,
   "id": "06b877b7-897a-403d-a72e-761c1158f524",
   "metadata": {},
   "outputs": [
    {
     "name": "stdout",
     "output_type": "stream",
     "text": [
      "Chi2: 0.1459716040860726\n",
      "p-value: 0.7024151517201087\n",
      "Degrees of freedom: 1\n",
      "Expected frequencies:\n",
      "[[219.8247012  22.1752988]\n",
      " [  8.1752988   0.8247012]]\n",
      "..................................................................................................\n",
      "Fail to reject the null hypothesis: No significant relationship between mothers_edu and dropout\n"
     ]
    }
   ],
   "source": [
    "# Perform Chi-Square Test\n",
    "chi2, p, dof, expected = chi2_contingency(contingency_table)\n",
    "\n",
    "\n",
    "print(f\"Chi2: {chi2}\")\n",
    "print(f\"p-value: {p}\")\n",
    "print(f\"Degrees of freedom: {dof}\")\n",
    "print(\"Expected frequencies:\")\n",
    "print(expected)\n",
    "\n",
    "if p < 0.05:\n",
    "    print(\"..................................................................................................\")\n",
    "    print(\"Reject the null hypothesis: There is a significant relationship between mothers_edu and dropout\")\n",
    "else:\n",
    "    print(\"..................................................................................................\")\n",
    "    print(\"Fail to reject the null hypothesis: No significant relationship between mothers_edu and dropout\")"
   ]
  },
  {
   "cell_type": "markdown",
   "id": "26f2445f-9a56-423a-a63e-b114c63a35dc",
   "metadata": {},
   "source": [
    "# iv. Final Conclusion \n",
    "Using statistical analysis we can conclude that there is not any significant difference and the mothers_edu and dropout feature is independent on each other. "
   ]
  },
  {
   "cell_type": "markdown",
   "id": "bbc99a06-ca0c-4100-8e66-e0582d8a0556",
   "metadata": {},
   "source": [
    "# 2.2.5. Plotting  Grade with Dropout"
   ]
  },
  {
   "cell_type": "code",
   "execution_count": 62,
   "id": "58e2dbd4-97d8-4a34-aacb-1550299b0178",
   "metadata": {},
   "outputs": [
    {
     "data": {
      "image/png": "[encoded data removed]",
      "text/plain": [
       "<Figure size 1000x600 with 1 Axes>"
      ]
     },
     "metadata": {},
     "output_type": "display_data"
    }
   ],
   "source": [
    "plt.figure(figsize=(10, 6))\n",
    "sns.countplot(x='grade', hue='dropout', data=df)\n",
    "plt.title('Count plot of grade by Dropout')\n",
    "plt.xlabel('grade')\n",
    "plt.ylabel('Count')\n",
    "plt.show()"
   ]
  },
  {
   "cell_type": "code",
   "execution_count": 63,
   "id": "9a89c99b-7f11-4ec6-8021-3d6722ac6fd7",
   "metadata": {},
   "outputs": [
    {
     "data": {
      "text/html": [
       "<div>\n",
       "<style scoped>\n",
       "    .dataframe tbody tr th:only-of-type {\n",
       "        vertical-align: middle;\n",
       "    }\n",
       "\n",
       "    .dataframe tbody tr th {\n",
       "        vertical-align: top;\n",
       "    }\n",
       "\n",
       "    .dataframe thead th {\n",
       "        text-align: right;\n",
       "    }\n",
       "</style>\n",
       "<table border=\"1\" class=\"dataframe\">\n",
       "  <thead>\n",
       "    <tr style=\"text-align: right;\">\n",
       "      <th>dropout</th>\n",
       "      <th>0</th>\n",
       "      <th>1</th>\n",
       "    </tr>\n",
       "    <tr>\n",
       "      <th>grade</th>\n",
       "      <th></th>\n",
       "      <th></th>\n",
       "    </tr>\n",
       "  </thead>\n",
       "  <tbody>\n",
       "    <tr>\n",
       "      <th>Form Four</th>\n",
       "      <td>3</td>\n",
       "      <td>0</td>\n",
       "    </tr>\n",
       "    <tr>\n",
       "      <th>Form One</th>\n",
       "      <td>140</td>\n",
       "      <td>19</td>\n",
       "    </tr>\n",
       "    <tr>\n",
       "      <th>Form Three</th>\n",
       "      <td>33</td>\n",
       "      <td>2</td>\n",
       "    </tr>\n",
       "    <tr>\n",
       "      <th>Form Two</th>\n",
       "      <td>52</td>\n",
       "      <td>2</td>\n",
       "    </tr>\n",
       "  </tbody>\n",
       "</table>\n",
       "</div>"
      ],
      "text/plain": [
       "dropout       0   1\n",
       "grade              \n",
       "Form Four     3   0\n",
       "Form One    140  19\n",
       "Form Three   33   2\n",
       "Form Two     52   2"
      ]
     },
     "execution_count": 63,
     "metadata": {},
     "output_type": "execute_result"
    }
   ],
   "source": [
    "# Sample the DataFrame consistently for both columns\n",
    "sampled_df = df.sample(frac=0.004, replace=True, random_state=1)\n",
    "\n",
    "# Create a contingency table from the sampled data\n",
    "contingency_table = pd.crosstab(sampled_df['grade'], sampled_df['dropout'], margins=False)\n",
    "contingency_table"
   ]
  },
  {
   "cell_type": "code",
   "execution_count": 84,
   "id": "3264eca2-9381-473c-b306-671b8c85f401",
   "metadata": {},
   "outputs": [
    {
     "name": "stdout",
     "output_type": "stream",
     "text": [
      "Chi2: 0.3807389344312493\n",
      "p-value: 0.5372080362620313\n",
      "Degrees of freedom: 1\n",
      "Expected frequencies:\n",
      "[[129.89641434  13.10358566]\n",
      " [ 98.10358566   9.89641434]]\n",
      "..................................................................................................\n",
      "Fail to reject the null hypothesis: No significant relationship between grade and dropout\n"
     ]
    }
   ],
   "source": [
    "# Perform Chi-Square Test\n",
    "chi2, p, dof, expected = chi2_contingency(contingency_table)\n",
    "\n",
    "print(f\"Chi2: {chi2}\")\n",
    "print(f\"p-value: {p}\")\n",
    "print(f\"Degrees of freedom: {dof}\")\n",
    "print(\"Expected frequencies:\")\n",
    "print(expected)\n",
    " \n",
    "if p < 0.05:\n",
    "    print(\"..................................................................................................\")\n",
    "    print(\"Reject the null hypothesis: There is a significant relationship between grade and dropout\")\n",
    "else:\n",
    "    print(\"..................................................................................................\")\n",
    "    print(\"Fail to reject the null hypothesis: No significant relationship between grade and dropout\")"
   ]
  },
  {
   "cell_type": "markdown",
   "id": "9c8980eb-b45d-4c36-8f3e-3d39d9cfe77a",
   "metadata": {},
   "source": [
    "# iv. Final Conclusion \n",
    "Using statistical analysis we can conclude that there is not any significant difference and the grade and dropout feature is independent on each other. "
   ]
  },
  {
   "cell_type": "markdown",
   "id": "6ec47ef2-7fd7-4168-aad4-471696a0500d",
   "metadata": {},
   "source": [
    "# 2.2.6. Plotting  Means To School with Dropout"
   ]
  },
  {
   "cell_type": "code",
   "execution_count": 65,
   "id": "644ab6d9-f235-48dc-a8c9-1430645b3124",
   "metadata": {},
   "outputs": [
    {
     "data": {
      "image/png": "[encoded data removed]",
      "text/plain": [
       "<Figure size 1000x600 with 1 Axes>"
      ]
     },
     "metadata": {},
     "output_type": "display_data"
    }
   ],
   "source": [
    "plt.figure(figsize=(10, 6))\n",
    "sns.countplot(x='meansToSchool', hue='dropout', data=df)\n",
    "plt.title('Count plot of meansToSchool by Dropout')\n",
    "plt.xlabel('meansToSchool')\n",
    "plt.ylabel('Count')\n",
    "plt.show()"
   ]
  },
  {
   "cell_type": "code",
   "execution_count": 66,
   "id": "a5a8d5c9-b4a8-4de4-96ab-408f892dbe85",
   "metadata": {},
   "outputs": [
    {
     "data": {
      "text/html": [
       "<div>\n",
       "<style scoped>\n",
       "    .dataframe tbody tr th:only-of-type {\n",
       "        vertical-align: middle;\n",
       "    }\n",
       "\n",
       "    .dataframe tbody tr th {\n",
       "        vertical-align: top;\n",
       "    }\n",
       "\n",
       "    .dataframe thead th {\n",
       "        text-align: right;\n",
       "    }\n",
       "</style>\n",
       "<table border=\"1\" class=\"dataframe\">\n",
       "  <thead>\n",
       "    <tr style=\"text-align: right;\">\n",
       "      <th>dropout</th>\n",
       "      <th>0</th>\n",
       "      <th>1</th>\n",
       "    </tr>\n",
       "    <tr>\n",
       "      <th>meansToSchool</th>\n",
       "      <th></th>\n",
       "      <th></th>\n",
       "    </tr>\n",
       "  </thead>\n",
       "  <tbody>\n",
       "    <tr>\n",
       "      <th>Bicycle/motorbike</th>\n",
       "      <td>17</td>\n",
       "      <td>0</td>\n",
       "    </tr>\n",
       "    <tr>\n",
       "      <th>Private car</th>\n",
       "      <td>3</td>\n",
       "      <td>0</td>\n",
       "    </tr>\n",
       "    <tr>\n",
       "      <th>Public transport</th>\n",
       "      <td>7</td>\n",
       "      <td>0</td>\n",
       "    </tr>\n",
       "    <tr>\n",
       "      <th>Walk</th>\n",
       "      <td>201</td>\n",
       "      <td>23</td>\n",
       "    </tr>\n",
       "  </tbody>\n",
       "</table>\n",
       "</div>"
      ],
      "text/plain": [
       "dropout              0   1\n",
       "meansToSchool             \n",
       "Bicycle/motorbike   17   0\n",
       "Private car          3   0\n",
       "Public transport     7   0\n",
       "Walk               201  23"
      ]
     },
     "execution_count": 66,
     "metadata": {},
     "output_type": "execute_result"
    }
   ],
   "source": [
    "# Sample the DataFrame consistently for both columns \n",
    "sampled_df = df.sample(frac=0.004, replace=True, random_state=1)\n",
    "\n",
    "# Create a contingency table from the sampled data\n",
    "contingency_table = pd.crosstab(sampled_df['meansToSchool'], sampled_df['dropout'], margins=False)\n",
    "contingency_table"
   ]
  },
  {
   "cell_type": "code",
   "execution_count": 67,
   "id": "a4584639-eba3-4fbf-8e7d-8b8dcea492eb",
   "metadata": {},
   "outputs": [
    {
     "name": "stdout",
     "output_type": "stream",
     "text": [
      "Chi2: 660.9553334578962\n",
      "p-value: 6.138392445039232e-143\n",
      "Degrees of freedom: 3\n",
      "Expected frequencies:\n",
      "[[4.38791603e+03 4.39083967e+02]\n",
      " [3.03617973e+02 3.03820271e+01]\n",
      " [7.40864215e+02 7.41357848e+01]\n",
      " [5.15996018e+04 5.16339822e+03]]\n",
      "..................................................................................................\n",
      "Reject the null hypothesis: There is a significant relationship between meansToSchool and dropout\n"
     ]
    }
   ],
   "source": [
    "# Create a contingency table\n",
    "contingency_table = pd.crosstab(df['meansToSchool'], df['dropout'])\n",
    "\n",
    "# Perform Chi-Square Test\n",
    "chi2, p, dof, expected = chi2_contingency(contingency_table)\n",
    "\n",
    "print(f\"Chi2: {chi2}\")\n",
    "print(f\"p-value: {p}\")\n",
    "print(f\"Degrees of freedom: {dof}\")\n",
    "print(\"Expected frequencies:\")\n",
    "print(expected)\n",
    "\n",
    "if p < 0.05:\n",
    "    print(\"..................................................................................................\")\n",
    "    print(\"Reject the null hypothesis: There is a significant relationship between meansToSchool and dropout\")\n",
    "else:\n",
    "    print(\"..................................................................................................\")\n",
    "    print(\"Fail to reject the null hypothesis: No significant relationship between meansToSchool and dropout\")\n",
    "   "
   ]
  },
  {
   "cell_type": "markdown",
   "id": "87e23412-61dc-4101-816c-6608a0cd1a09",
   "metadata": {},
   "source": [
    "# iv. Final Conclusion \n",
    "Using statistical analysis we can conclude that there is not any significant difference and the age and dropout feature is independent on each other. "
   ]
  },
  {
   "cell_type": "markdown",
   "id": "33832e3b-08df-4c3b-bb30-902609af444a",
   "metadata": {},
   "source": [
    "# 2.2.7. Plotting  Household Children(hh_children) with Dropout"
   ]
  },
  {
   "cell_type": "code",
   "execution_count": 68,
   "id": "f831abc3-05b4-4910-ae8f-ade3e470e642",
   "metadata": {},
   "outputs": [
    {
     "data": {
      "image/png": "[encoded data removed]",
      "text/plain": [
       "<Figure size 1000x600 with 1 Axes>"
      ]
     },
     "metadata": {},
     "output_type": "display_data"
    }
   ],
   "source": [
    "plt.figure(figsize=(10, 6))\n",
    "sns.countplot(x='hh_children', hue='dropout', data=df)\n",
    "plt.title('Count plot of hh_children by Dropout')\n",
    "plt.xlabel('hh_children')\n",
    "plt.ylabel('Count')\n",
    "plt.show()"
   ]
  },
  {
   "cell_type": "code",
   "execution_count": 69,
   "id": "ef726235-1ce8-4a2c-887e-374a681b43a5",
   "metadata": {},
   "outputs": [
    {
     "data": {
      "text/html": [
       "<div>\n",
       "<style scoped>\n",
       "    .dataframe tbody tr th:only-of-type {\n",
       "        vertical-align: middle;\n",
       "    }\n",
       "\n",
       "    .dataframe tbody tr th {\n",
       "        vertical-align: top;\n",
       "    }\n",
       "\n",
       "    .dataframe thead th {\n",
       "        text-align: right;\n",
       "    }\n",
       "</style>\n",
       "<table border=\"1\" class=\"dataframe\">\n",
       "  <thead>\n",
       "    <tr style=\"text-align: right;\">\n",
       "      <th>dropout</th>\n",
       "      <th>0</th>\n",
       "      <th>1</th>\n",
       "    </tr>\n",
       "    <tr>\n",
       "      <th>hh_children</th>\n",
       "      <th></th>\n",
       "      <th></th>\n",
       "    </tr>\n",
       "  </thead>\n",
       "  <tbody>\n",
       "    <tr>\n",
       "      <th>Five Children</th>\n",
       "      <td>38</td>\n",
       "      <td>0</td>\n",
       "    </tr>\n",
       "    <tr>\n",
       "      <th>Four Children</th>\n",
       "      <td>49</td>\n",
       "      <td>0</td>\n",
       "    </tr>\n",
       "    <tr>\n",
       "      <th>More than five</th>\n",
       "      <td>25</td>\n",
       "      <td>23</td>\n",
       "    </tr>\n",
       "    <tr>\n",
       "      <th>Three Children</th>\n",
       "      <td>60</td>\n",
       "      <td>0</td>\n",
       "    </tr>\n",
       "    <tr>\n",
       "      <th>Two Children</th>\n",
       "      <td>56</td>\n",
       "      <td>0</td>\n",
       "    </tr>\n",
       "  </tbody>\n",
       "</table>\n",
       "</div>"
      ],
      "text/plain": [
       "dropout          0   1\n",
       "hh_children           \n",
       "Five Children   38   0\n",
       "Four Children   49   0\n",
       "More than five  25  23\n",
       "Three Children  60   0\n",
       "Two Children    56   0"
      ]
     },
     "execution_count": 69,
     "metadata": {},
     "output_type": "execute_result"
    }
   ],
   "source": [
    "# Sample the DataFrame consistently for both columns \n",
    "sampled_df = df.sample(frac=0.004, replace=True, random_state=1)\n",
    "\n",
    "# Create a contingency table from the sampled data\n",
    "contingency_table = pd.crosstab(sampled_df['hh_children'], sampled_df['dropout'], margins=False)\n",
    "contingency_table"
   ]
  },
  {
   "cell_type": "code",
   "execution_count": 70,
   "id": "24f696ce-792f-44ff-ae13-9fa110b95894",
   "metadata": {},
   "outputs": [
    {
     "name": "stdout",
     "output_type": "stream",
     "text": [
      "Chi2: 107.08324195906434\n",
      "p-value: 3.047175708002928e-22\n",
      "Degrees of freedom: 4\n",
      "Expected frequencies:\n",
      "[[34.51792829  3.48207171]\n",
      " [44.50996016  4.49003984]\n",
      " [43.60159363  4.39840637]\n",
      " [54.50199203  5.49800797]\n",
      " [50.8685259   5.1314741 ]]\n",
      "..................................................................................................\n",
      "Reject the null hypothesis: There is a significant relationship between hh_children and dropout\n"
     ]
    }
   ],
   "source": [
    "# Perform Chi-Square Test\n",
    "chi2, p, dof, expected = chi2_contingency(contingency_table)\n",
    "\n",
    "print(f\"Chi2: {chi2}\")\n",
    "print(f\"p-value: {p}\")\n",
    "print(f\"Degrees of freedom: {dof}\")\n",
    "print(\"Expected frequencies:\")\n",
    "print(expected)\n",
    "\n",
    "if p < 0.05:\n",
    "    print(\"..................................................................................................\")\n",
    "    print(\"Reject the null hypothesis: There is a significant relationship between hh_children and dropout\")\n",
    "else:\n",
    "    print(\"..................................................................................................\")\n",
    "    print(\"Fail to reject the null hypothesis: No significant relationship between hh_children and dropout\")"
   ]
  },
  {
   "cell_type": "markdown",
   "id": "0727b7aa-a645-45c2-981f-aaae45ad505d",
   "metadata": {},
   "source": [
    "# iv. Final Conclusion \n",
    "Using statistical analysis we can conclude that there is a significant difference and the hh_children and dropout feature is dependent on each other. "
   ]
  },
  {
   "cell_type": "markdown",
   "id": "20e088db-054a-4080-a469-75165b2de7dc",
   "metadata": {},
   "source": [
    "# 2.2.8. Plotting Household Education(hh_edu) with Dropout"
   ]
  },
  {
   "cell_type": "code",
   "execution_count": 71,
   "id": "c375e6a6-d41a-47de-b9eb-f500c2f24d76",
   "metadata": {},
   "outputs": [
    {
     "data": {
      "image/png": "[encoded data removed]",
      "text/plain": [
       "<Figure size 1000x600 with 1 Axes>"
      ]
     },
     "metadata": {},
     "output_type": "display_data"
    }
   ],
   "source": [
    "plt.figure(figsize=(10, 6))\n",
    "sns.countplot(x='hh_edu', hue='dropout', data=df)\n",
    "plt.title('Count plot of hh_edu by Dropout')\n",
    "plt.xlabel('hh_edu')\n",
    "plt.ylabel('Count')\n",
    "plt.show()"
   ]
  },
  {
   "cell_type": "code",
   "execution_count": 72,
   "id": "9310b484-f437-45f4-a63d-f5529e7f02f9",
   "metadata": {},
   "outputs": [
    {
     "data": {
      "text/html": [
       "<div>\n",
       "<style scoped>\n",
       "    .dataframe tbody tr th:only-of-type {\n",
       "        vertical-align: middle;\n",
       "    }\n",
       "\n",
       "    .dataframe tbody tr th {\n",
       "        vertical-align: top;\n",
       "    }\n",
       "\n",
       "    .dataframe thead th {\n",
       "        text-align: right;\n",
       "    }\n",
       "</style>\n",
       "<table border=\"1\" class=\"dataframe\">\n",
       "  <thead>\n",
       "    <tr style=\"text-align: right;\">\n",
       "      <th>dropout</th>\n",
       "      <th>0</th>\n",
       "      <th>1</th>\n",
       "    </tr>\n",
       "    <tr>\n",
       "      <th>hh_edu</th>\n",
       "      <th></th>\n",
       "      <th></th>\n",
       "    </tr>\n",
       "  </thead>\n",
       "  <tbody>\n",
       "    <tr>\n",
       "      <th>Primary</th>\n",
       "      <td>224</td>\n",
       "      <td>23</td>\n",
       "    </tr>\n",
       "    <tr>\n",
       "      <th>Secondary</th>\n",
       "      <td>4</td>\n",
       "      <td>0</td>\n",
       "    </tr>\n",
       "  </tbody>\n",
       "</table>\n",
       "</div>"
      ],
      "text/plain": [
       "dropout      0   1\n",
       "hh_edu            \n",
       "Primary    224  23\n",
       "Secondary    4   0"
      ]
     },
     "execution_count": 72,
     "metadata": {},
     "output_type": "execute_result"
    }
   ],
   "source": [
    "# Sample the DataFrame consistently for both columns \n",
    "sampled_df = df.sample(frac=0.004, replace=True, random_state=1)\n",
    "\n",
    "# Create a contingency table from the sampled data\n",
    "contingency_table = pd.crosstab(sampled_df['hh_edu'], sampled_df['dropout'], margins=False)\n",
    "contingency_table"
   ]
  },
  {
   "cell_type": "code",
   "execution_count": 73,
   "id": "4fea13ed-ae83-4e55-8673-fa316457c66e",
   "metadata": {},
   "outputs": [
    {
     "name": "stdout",
     "output_type": "stream",
     "text": [
      "Chi2: 0.0\n",
      "p-value: 1.0\n",
      "Degrees of freedom: 1\n",
      "Expected frequencies:\n",
      "[[224.36653386  22.63346614]\n",
      " [  3.63346614   0.36653386]]\n",
      "..................................................................................................\n",
      "Fail to reject the null hypothesis: No significant relationship between hh_edu and dropout\n"
     ]
    }
   ],
   "source": [
    "# Perform Chi-Square Test\n",
    "chi2, p, dof, expected = chi2_contingency(contingency_table)\n",
    "\n",
    "print(f\"Chi2: {chi2}\")\n",
    "print(f\"p-value: {p}\")\n",
    "print(f\"Degrees of freedom: {dof}\")\n",
    "print(\"Expected frequencies:\")\n",
    "print(expected)\n",
    "\n",
    "if p < 0.05:\n",
    "    print(\"..................................................................................................\")\n",
    "    print(\"Reject the null hypothesis: There is a significant relationship between hh_edu and dropout\")\n",
    "else:\n",
    "    print(\"..................................................................................................\")\n",
    "    print(\"Fail to reject the null hypothesis: No significant relationship between hh_edu and dropout\")"
   ]
  },
  {
   "cell_type": "markdown",
   "id": "b37e5d35-6908-4c87-a321-2a6bf773a9aa",
   "metadata": {},
   "source": [
    "# iv. Final Conclusion \n",
    "Using statistical analysis we can conclude that there is not any significant difference and the hh_edu and dropout feature is independent on each other. "
   ]
  },
  {
   "cell_type": "markdown",
   "id": "5daf8195-1fb1-470f-8e56-fae31eedd15e",
   "metadata": {},
   "source": [
    "# 2.2.9 Plotting Household Size(hh_size) with Dropout"
   ]
  },
  {
   "cell_type": "code",
   "execution_count": 74,
   "id": "aa538b0a-c6e2-4bef-a301-8c960aa930b7",
   "metadata": {},
   "outputs": [
    {
     "data": {
      "image/png": "[encoded data removed]",
      "text/plain": [
       "<Figure size 1000x600 with 1 Axes>"
      ]
     },
     "metadata": {},
     "output_type": "display_data"
    }
   ],
   "source": [
    "plt.figure(figsize=(10, 6))\n",
    "sns.countplot(x='hh_size', hue='dropout', data=df)\n",
    "plt.title('Count plot of hh_size by Dropout')\n",
    "plt.xlabel('hh_size')\n",
    "plt.ylabel('Count')\n",
    "plt.show()"
   ]
  },
  {
   "cell_type": "code",
   "execution_count": 75,
   "id": "0cac37cc-525d-4456-8c55-8a75ca43591b",
   "metadata": {},
   "outputs": [
    {
     "data": {
      "text/html": [
       "<div>\n",
       "<style scoped>\n",
       "    .dataframe tbody tr th:only-of-type {\n",
       "        vertical-align: middle;\n",
       "    }\n",
       "\n",
       "    .dataframe tbody tr th {\n",
       "        vertical-align: top;\n",
       "    }\n",
       "\n",
       "    .dataframe thead th {\n",
       "        text-align: right;\n",
       "    }\n",
       "</style>\n",
       "<table border=\"1\" class=\"dataframe\">\n",
       "  <thead>\n",
       "    <tr style=\"text-align: right;\">\n",
       "      <th>dropout</th>\n",
       "      <th>0</th>\n",
       "      <th>1</th>\n",
       "    </tr>\n",
       "    <tr>\n",
       "      <th>hh_size</th>\n",
       "      <th></th>\n",
       "      <th></th>\n",
       "    </tr>\n",
       "  </thead>\n",
       "  <tbody>\n",
       "    <tr>\n",
       "      <th>Five Children</th>\n",
       "      <td>32</td>\n",
       "      <td>0</td>\n",
       "    </tr>\n",
       "    <tr>\n",
       "      <th>Four Children</th>\n",
       "      <td>19</td>\n",
       "      <td>0</td>\n",
       "    </tr>\n",
       "    <tr>\n",
       "      <th>More than five</th>\n",
       "      <td>165</td>\n",
       "      <td>23</td>\n",
       "    </tr>\n",
       "    <tr>\n",
       "      <th>Three Children</th>\n",
       "      <td>10</td>\n",
       "      <td>0</td>\n",
       "    </tr>\n",
       "    <tr>\n",
       "      <th>Two Children</th>\n",
       "      <td>2</td>\n",
       "      <td>0</td>\n",
       "    </tr>\n",
       "  </tbody>\n",
       "</table>\n",
       "</div>"
      ],
      "text/plain": [
       "dropout           0   1\n",
       "hh_size                \n",
       "Five Children    32   0\n",
       "Four Children    19   0\n",
       "More than five  165  23\n",
       "Three Children   10   0\n",
       "Two Children      2   0"
      ]
     },
     "execution_count": 75,
     "metadata": {},
     "output_type": "execute_result"
    }
   ],
   "source": [
    "# Sample the DataFrame consistently for both columns \n",
    "sampled_df = df.sample(frac=0.004, replace=True, random_state=1)\n",
    "\n",
    "# Create a contingency table from the sampled data\n",
    "contingency_table = pd.crosstab(sampled_df['hh_size'], sampled_df['dropout'], margins=False)\n",
    "contingency_table"
   ]
  },
  {
   "cell_type": "code",
   "execution_count": 76,
   "id": "c75114f0-0c6a-4296-9e77-45b582156837",
   "metadata": {},
   "outputs": [
    {
     "name": "stdout",
     "output_type": "stream",
     "text": [
      "Chi2: 8.484952407614783\n",
      "p-value: 0.07534465748208687\n",
      "Degrees of freedom: 4\n",
      "Expected frequencies:\n",
      "[[ 29.06772908   2.93227092]\n",
      " [ 17.25896414   1.74103586]\n",
      " [170.77290837  17.22709163]\n",
      " [  9.08366534   0.91633466]\n",
      " [  1.81673307   0.18326693]]\n",
      "..................................................................................................\n",
      "Fail to reject the null hypothesis: No significant relationship between hh_size and dropout\n"
     ]
    }
   ],
   "source": [
    "# Perform Chi-Square Test\n",
    "chi2, p, dof, expected = chi2_contingency(contingency_table)\n",
    "\n",
    "print(f\"Chi2: {chi2}\")\n",
    "print(f\"p-value: {p}\")\n",
    "print(f\"Degrees of freedom: {dof}\")\n",
    "print(\"Expected frequencies:\")\n",
    "print(expected)\n",
    "\n",
    "if p < 0.05:\n",
    "    print(\"..................................................................................................\")\n",
    "    print(\"Reject the null hypothesis: There is a significant relationship between hh_size and dropout\")\n",
    "else:\n",
    "    print(\"..................................................................................................\")\n",
    "    print(\"Fail to reject the null hypothesis: No significant relationship between hh_size and dropout\")"
   ]
  },
  {
   "cell_type": "markdown",
   "id": "77096a11-3b96-4b78-8357-29a5119897e4",
   "metadata": {},
   "source": [
    "# iv. Final Conclusion \n",
    "Using statistical analysis we can conclude that there is not any significant difference and the hh_size and dropout feature is independent on each other. "
   ]
  },
  {
   "cell_type": "markdown",
   "id": "76155e47-286d-4932-8405-a207a9ebe57c",
   "metadata": {},
   "source": [
    "# 2.2.10. Plotting  Distance To School(school_distanceKm) with Dropout"
   ]
  },
  {
   "cell_type": "code",
   "execution_count": 77,
   "id": "2b1c1b8c-e62e-409a-81bd-b38b05efb872",
   "metadata": {},
   "outputs": [
    {
     "data": {
      "image/png": "[encoded data removed]",
      "text/plain": [
       "<Figure size 1100x600 with 1 Axes>"
      ]
     },
     "metadata": {},
     "output_type": "display_data"
    }
   ],
   "source": [
    "plt.figure(figsize=(11, 6))\n",
    "sns.countplot(x='school_distanceKm_num', hue='dropout', data=df)\n",
    "plt.title('Count plot of school_distanceKm_num by Dropout')\n",
    "plt.xlabel('school_distanceKm_num')\n",
    "plt.ylabel('Count')\n",
    "plt.show()"
   ]
  },
  {
   "cell_type": "code",
   "execution_count": 78,
   "id": "5fd6c5e8-565c-479b-ae39-e3d581292ec3",
   "metadata": {},
   "outputs": [
    {
     "data": {
      "text/html": [
       "<div>\n",
       "<style scoped>\n",
       "    .dataframe tbody tr th:only-of-type {\n",
       "        vertical-align: middle;\n",
       "    }\n",
       "\n",
       "    .dataframe tbody tr th {\n",
       "        vertical-align: top;\n",
       "    }\n",
       "\n",
       "    .dataframe thead th {\n",
       "        text-align: right;\n",
       "    }\n",
       "</style>\n",
       "<table border=\"1\" class=\"dataframe\">\n",
       "  <thead>\n",
       "    <tr style=\"text-align: right;\">\n",
       "      <th>dropout</th>\n",
       "      <th>0</th>\n",
       "      <th>1</th>\n",
       "    </tr>\n",
       "    <tr>\n",
       "      <th>school_distanceKm_num</th>\n",
       "      <th></th>\n",
       "      <th></th>\n",
       "    </tr>\n",
       "  </thead>\n",
       "  <tbody>\n",
       "    <tr>\n",
       "      <th>0.75</th>\n",
       "      <td>0</td>\n",
       "      <td>1</td>\n",
       "    </tr>\n",
       "    <tr>\n",
       "      <th>1.50</th>\n",
       "      <td>1</td>\n",
       "      <td>0</td>\n",
       "    </tr>\n",
       "    <tr>\n",
       "      <th>2.50</th>\n",
       "      <td>226</td>\n",
       "      <td>22</td>\n",
       "    </tr>\n",
       "    <tr>\n",
       "      <th>4.50</th>\n",
       "      <td>1</td>\n",
       "      <td>0</td>\n",
       "    </tr>\n",
       "  </tbody>\n",
       "</table>\n",
       "</div>"
      ],
      "text/plain": [
       "dropout                  0   1\n",
       "school_distanceKm_num         \n",
       "0.75                     0   1\n",
       "1.50                     1   0\n",
       "2.50                   226  22\n",
       "4.50                     1   0"
      ]
     },
     "execution_count": 78,
     "metadata": {},
     "output_type": "execute_result"
    }
   ],
   "source": [
    "# Sample the DataFrame consistently for both columns \n",
    "sampled_df = df.sample(frac=0.004, replace=True, random_state=1)\n",
    "\n",
    "# Create a contingency table from the sampled data\n",
    "contingency_table = pd.crosstab(sampled_df['school_distanceKm_num'], sampled_df['dropout'], margins=False)\n",
    "contingency_table"
   ]
  },
  {
   "cell_type": "code",
   "execution_count": 79,
   "id": "2adf6423-adfa-4945-b3e4-b0d4ae3116b0",
   "metadata": {},
   "outputs": [
    {
     "name": "stdout",
     "output_type": "stream",
     "text": [
      "Chi2: 10.140267832976548\n",
      "p-value: 0.01741067675418496\n",
      "Degrees of freedom: 3\n",
      "Expected frequencies:\n",
      "[[9.08366534e-01 9.16334661e-02]\n",
      " [9.08366534e-01 9.16334661e-02]\n",
      " [2.25274900e+02 2.27250996e+01]\n",
      " [9.08366534e-01 9.16334661e-02]]\n",
      "..................................................................................................\n",
      "Reject the null hypothesis: There is a significant relationship between school_distanceKm_num and dropout\n"
     ]
    }
   ],
   "source": [
    "# Perform Chi-Square Test\n",
    "chi2, p, dof, expected = chi2_contingency(contingency_table)\n",
    "\n",
    "print(f\"Chi2: {chi2}\")\n",
    "print(f\"p-value: {p}\")\n",
    "print(f\"Degrees of freedom: {dof}\")\n",
    "print(\"Expected frequencies:\")\n",
    "print(expected)\n",
    "\n",
    "if p < 0.05:\n",
    "    print(\"..................................................................................................\")\n",
    "    print(\"Reject the null hypothesis: There is a significant relationship between school_distanceKm_num and dropout\")\n",
    "else:\n",
    "    print(\"..................................................................................................\")\n",
    "    print(\"Fail to reject the null hypothesis: No significant relationship between school_distanceKm_num and dropout\")"
   ]
  },
  {
   "cell_type": "markdown",
   "id": "6859a0ea-55b2-492f-b40d-3abe6e4cddbe",
   "metadata": {},
   "source": [
    "# iv. Final Conclusion \n",
    "Using statistical analysis we can conclude that there is a significant difference and the school_distanceKm_num and dropout feature is dependent on each other. "
   ]
  },
  {
   "cell_type": "markdown",
   "id": "b7766a18-c943-4107-9019-c720d6441271",
   "metadata": {},
   "source": [
    "# 2.2.11. Plotting Gender To Dropout"
   ]
  },
  {
   "cell_type": "code",
   "execution_count": 80,
   "id": "48a22ee1-f938-41e9-9ce4-5dd8be00c018",
   "metadata": {},
   "outputs": [
    {
     "data": {
      "image/png": "[encoded data removed]",
      "text/plain": [
       "<Figure size 1000x600 with 1 Axes>"
      ]
     },
     "metadata": {},
     "output_type": "display_data"
    }
   ],
   "source": [
    "plt.figure(figsize=(10, 6))\n",
    "sns.countplot(x='gender', hue='dropout', data=df)\n",
    "plt.title('Count plot of gender by Dropout')\n",
    "plt.xlabel('gender')\n",
    "plt.ylabel('Count')\n",
    "plt.show()"
   ]
  },
  {
   "cell_type": "code",
   "execution_count": 81,
   "id": "b8ed47bb-d7de-4681-984a-d785e1abc175",
   "metadata": {},
   "outputs": [
    {
     "data": {
      "text/html": [
       "<div>\n",
       "<style scoped>\n",
       "    .dataframe tbody tr th:only-of-type {\n",
       "        vertical-align: middle;\n",
       "    }\n",
       "\n",
       "    .dataframe tbody tr th {\n",
       "        vertical-align: top;\n",
       "    }\n",
       "\n",
       "    .dataframe thead th {\n",
       "        text-align: right;\n",
       "    }\n",
       "</style>\n",
       "<table border=\"1\" class=\"dataframe\">\n",
       "  <thead>\n",
       "    <tr style=\"text-align: right;\">\n",
       "      <th>dropout</th>\n",
       "      <th>0</th>\n",
       "      <th>1</th>\n",
       "    </tr>\n",
       "    <tr>\n",
       "      <th>gender</th>\n",
       "      <th></th>\n",
       "      <th></th>\n",
       "    </tr>\n",
       "  </thead>\n",
       "  <tbody>\n",
       "    <tr>\n",
       "      <th>Female</th>\n",
       "      <td>128</td>\n",
       "      <td>15</td>\n",
       "    </tr>\n",
       "    <tr>\n",
       "      <th>Male</th>\n",
       "      <td>100</td>\n",
       "      <td>8</td>\n",
       "    </tr>\n",
       "  </tbody>\n",
       "</table>\n",
       "</div>"
      ],
      "text/plain": [
       "dropout    0   1\n",
       "gender          \n",
       "Female   128  15\n",
       "Male     100   8"
      ]
     },
     "execution_count": 81,
     "metadata": {},
     "output_type": "execute_result"
    }
   ],
   "source": [
    "# Sample the DataFrame consistently for both columns \n",
    "sampled_df = df.sample(frac=0.004, replace=True, random_state=1)\n",
    "\n",
    "# Create a contingency table from the sampled data\n",
    "contingency_table = pd.crosstab(sampled_df['gender'], sampled_df['dropout'], margins=False)\n",
    "contingency_table"
   ]
  },
  {
   "cell_type": "code",
   "execution_count": 82,
   "id": "59e444c6-c4b7-4819-bc11-1fea70f99a30",
   "metadata": {},
   "outputs": [
    {
     "name": "stdout",
     "output_type": "stream",
     "text": [
      "Chi2: 0.3807389344312493\n",
      "p-value: 0.5372080362620313\n",
      "Degrees of freedom: 1\n",
      "Expected frequencies:\n",
      "[[129.89641434  13.10358566]\n",
      " [ 98.10358566   9.89641434]]\n",
      "..................................................................................................\n",
      "Fail to reject the null hypothesis: No significant relationship between gender and dropout\n"
     ]
    }
   ],
   "source": [
    "# Perform Chi-Square Test\n",
    "chi2, p, dof, expected = chi2_contingency(contingency_table)\n",
    "\n",
    "print(f\"Chi2: {chi2}\")\n",
    "print(f\"p-value: {p}\")\n",
    "print(f\"Degrees of freedom: {dof}\")\n",
    "print(\"Expected frequencies:\")\n",
    "print(expected)\n",
    "\n",
    "if p < 0.05:\n",
    "    print(\"..................................................................................................\")\n",
    "    print(\"Reject the null hypothesis: There is a significant relationship between gender and dropout\")\n",
    "else:\n",
    "    print(\"..................................................................................................\")\n",
    "    print(\"Fail to reject the null hypothesis: No significant relationship between gender and dropout\")"
   ]
  },
  {
   "cell_type": "markdown",
   "id": "fd31c5c4-662f-4a43-bcc9-8d5758ae7e93",
   "metadata": {},
   "source": [
    "# iv. Final Conclusion \n",
    "Using statistical analysis we can conclude that there is not any significant difference and the gender and dropout feature is independent of each other. "
   ]
  },
  {
   "cell_type": "markdown",
   "id": "b4bc63c5-8129-46f9-8f6a-1510bf5d6d38",
   "metadata": {},
   "source": [
    "# 3.1 Conclusion of Bivariate Analysis"
   ]
  },
  {
   "cell_type": "markdown",
   "id": "5659d847-2470-486e-95f9-57c89b1d4615",
   "metadata": {},
   "source": [
    "Factors Influencing Dropout:\n",
    "\n",
    "1. School Distance\t\n",
    "2. Means of Transportation\n",
    "3. Household Children\n",
    "4. Household Occupation\n",
    "\n",
    "School Distance and Means of Transportation\n",
    "\n"
   ]
  }
 ],
 "metadata": {
  "kernelspec": {
   "display_name": "Python 3 (ipykernel)",
   "language": "python",
   "name": "python3"
  },
  "language_info": {
   "codemirror_mode": {
    "name": "ipython",
    "version": 3
   },
   "file_extension": ".py",
   "mimetype": "text/x-python",
   "name": "python",
   "nbconvert_exporter": "python",
   "pygments_lexer": "ipython3",
   "version": "3.11.5"
  }
 },
 "nbformat": 4,
 "nbformat_minor": 5
}
